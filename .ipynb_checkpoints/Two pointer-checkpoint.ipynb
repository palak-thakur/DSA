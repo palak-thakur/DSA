{
 "cells": [
  {
   "cell_type": "code",
   "execution_count": 2,
   "id": "45491e26",
   "metadata": {},
   "outputs": [
    {
     "data": {
      "text/plain": [
       "(8, 9)"
      ]
     },
     "execution_count": 2,
     "metadata": {},
     "output_type": "execute_result"
    }
   ],
   "source": [
    "#find pair of elements to get given sum\n",
    "def pair_sum(arr, n, ele):\n",
    "    i = 0\n",
    "    j = n\n",
    "    while i < j:\n",
    "        if arr[i] + arr[j] == ele:\n",
    "            return arr[i], arr[j]\n",
    "        elif arr[i] + arr[j] > ele:\n",
    "            j -= 1\n",
    "        else:\n",
    "            i += 1\n",
    "    return -1, -1\n",
    "\n",
    "arr = [2, 3, 5, 8, 9, 10, 11]\n",
    "n = len(arr) - 1\n",
    "ele = 17\n",
    "pair_sum(arr, n, ele)"
   ]
  },
  {
   "cell_type": "code",
   "execution_count": 5,
   "id": "2f8475e2",
   "metadata": {},
   "outputs": [
    {
     "data": {
      "text/plain": [
       "[0, 1, 2, 3, 4]"
      ]
     },
     "execution_count": 5,
     "metadata": {},
     "output_type": "execute_result"
    }
   ],
   "source": [
    "# remove duplicates from sorted array\n",
    "def removeDuplicates(nums):\n",
    "    i, j = 0, 1\n",
    "    while i < len(nums) and j < len(nums):\n",
    "        if nums[i] == nums[j]:\n",
    "            nums.pop(j)\n",
    "        else:\n",
    "            j += 1\n",
    "            i += 1\n",
    "    return nums\n",
    "nums = [0, 0, 1, 1, 1, 2, 2, 2, 3, 4, 4]\n",
    "removeDuplicates(nums)"
   ]
  },
  {
   "cell_type": "code",
   "execution_count": 4,
   "id": "e5acc7aa",
   "metadata": {},
   "outputs": [
    {
     "data": {
      "text/plain": [
       "[0, 1, 2, 3, 4]"
      ]
     },
     "execution_count": 4,
     "metadata": {},
     "output_type": "execute_result"
    }
   ],
   "source": [
    "def removeDuplicates(nums):\n",
    "    i, j = 0, 1\n",
    "    while j<len(nums):\n",
    "        if nums[i] != nums[j]:\n",
    "            i += 1\n",
    "            nums[i] = nums[j]\n",
    "        j += 1    \n",
    "    return nums[:i + 1]    \n",
    "nums = [0, 0, 1, 1, 1, 2, 2, 2, 3, 4, 4]\n",
    "removeDuplicates(nums)"
   ]
  },
  {
   "cell_type": "code",
   "execution_count": 21,
   "id": "a4205762",
   "metadata": {},
   "outputs": [
    {
     "data": {
      "text/plain": [
       "[2, 2]"
      ]
     },
     "execution_count": 21,
     "metadata": {},
     "output_type": "execute_result"
    }
   ],
   "source": [
    "#remove element\n",
    "def removeElement(nums, val):\n",
    "    i, j = 0, 0\n",
    "    while j < len(nums):\n",
    "        if nums[j] != val:\n",
    "            nums[i] = nums[j]\n",
    "            i += 1\n",
    "            j += 1\n",
    "        else:\n",
    "            j += 1\n",
    "    return nums[:i]\n",
    "nums = [3, 2, 2,3]\n",
    "val = 3\n",
    "removeElement(nums, val)"
   ]
  },
  {
   "cell_type": "code",
   "execution_count": 3,
   "id": "97cd211a",
   "metadata": {},
   "outputs": [],
   "source": [
    "# subarray sum\n",
    "def sub_array(arr, ele):\n",
    "    i, j = 0, 0\n",
    "    sumn = 0\n",
    "    while j < len(arr):\n",
    "        sumn += arr[j]\n",
    "        if sumn == ele:\n",
    "            return i, j\n",
    "        if j == len(arr)-1:\n",
    "            sumn = 0\n",
    "            i += 1\n",
    "        j += 1\n",
    "    return None    \n",
    "arr = [1, 2, 3, 4, 5, 6, 7, 8, 9]\n",
    "ele = 18\n",
    "sub_array(arr, ele)"
   ]
  },
  {
   "cell_type": "code",
   "execution_count": null,
   "id": "5534057c",
   "metadata": {},
   "outputs": [],
   "source": []
  }
 ],
 "metadata": {
  "kernelspec": {
   "display_name": "Python 3 (ipykernel)",
   "language": "python",
   "name": "python3"
  },
  "language_info": {
   "codemirror_mode": {
    "name": "ipython",
    "version": 3
   },
   "file_extension": ".py",
   "mimetype": "text/x-python",
   "name": "python",
   "nbconvert_exporter": "python",
   "pygments_lexer": "ipython3",
   "version": "3.9.12"
  }
 },
 "nbformat": 4,
 "nbformat_minor": 5
}
