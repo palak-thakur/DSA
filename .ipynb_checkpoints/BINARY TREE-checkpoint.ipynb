{
 "cells": [
  {
   "cell_type": "code",
   "execution_count": 1,
   "id": "20d3c4d5",
   "metadata": {},
   "outputs": [],
   "source": [
    "#implementation\n",
    "class Tree:\n",
    "    def __init__(self, key):\n",
    "        self.key = key\n",
    "        self.left = None\n",
    "        self.right = None\n",
    "        \n"
   ]
  },
  {
   "cell_type": "code",
   "execution_count": 2,
   "id": "fd77b9dd",
   "metadata": {},
   "outputs": [],
   "source": [
    "#creating node\n",
    "node0 = Tree(10)\n",
    "node1 = Tree(5)\n",
    "node2 = Tree(15)\n",
    "\n",
    "node0.left = node1\n",
    "node0.right = node2"
   ]
  },
  {
   "cell_type": "code",
   "execution_count": 7,
   "id": "5547653a",
   "metadata": {},
   "outputs": [
    {
     "data": {
      "text/plain": [
       "10"
      ]
     },
     "execution_count": 7,
     "metadata": {},
     "output_type": "execute_result"
    }
   ],
   "source": [
    "node0.key"
   ]
  },
  {
   "cell_type": "code",
   "execution_count": 8,
   "id": "10a6e77e",
   "metadata": {},
   "outputs": [
    {
     "data": {
      "text/plain": [
       "5"
      ]
     },
     "execution_count": 8,
     "metadata": {},
     "output_type": "execute_result"
    }
   ],
   "source": [
    "node0.left.key"
   ]
  },
  {
   "cell_type": "markdown",
   "id": "77535d5b",
   "metadata": {},
   "source": [
    "TUPLE IMPLEMENTATION OF TREE"
   ]
  },
  {
   "cell_type": "code",
   "execution_count": 27,
   "id": "1badc5c1",
   "metadata": {},
   "outputs": [],
   "source": [
    "class Tree:\n",
    "    def __init__(self, key):\n",
    "        self.key = key\n",
    "        self.left = None\n",
    "        self.right = None\n",
    "        \n",
    "def parse_tuple(data):\n",
    "    if isinstance(data, tuple) and len(data) == 3:\n",
    "        node = Tree(data[1])\n",
    "        node.left = parse_tuple(data[0])\n",
    "        node.right = parse_tuple(data[2])\n",
    "    elif data is None:\n",
    "        node = None\n",
    "    else:\n",
    "        node = data\n",
    "    return node\n",
    "\n",
    "data = ((1, 3, None), 2, ((None, 3, 4), 5, (6, 7, 8)))\n",
    "tree2 = parse_tuple(data)"
   ]
  },
  {
   "cell_type": "code",
   "execution_count": 28,
   "id": "d7b43c76",
   "metadata": {},
   "outputs": [
    {
     "data": {
      "text/plain": [
       "2"
      ]
     },
     "execution_count": 28,
     "metadata": {},
     "output_type": "execute_result"
    }
   ],
   "source": [
    "tree2.key"
   ]
  },
  {
   "cell_type": "code",
   "execution_count": 29,
   "id": "426464dd",
   "metadata": {},
   "outputs": [
    {
     "data": {
      "text/plain": [
       "(3, 2, 5)"
      ]
     },
     "execution_count": 29,
     "metadata": {},
     "output_type": "execute_result"
    }
   ],
   "source": [
    "tree2.left.key, tree2.key, tree2.right.key"
   ]
  },
  {
   "cell_type": "markdown",
   "id": "d2b32616",
   "metadata": {},
   "source": [
    "INORDER TRAVERSAL"
   ]
  },
  {
   "cell_type": "code",
   "execution_count": 26,
   "id": "e93e6def",
   "metadata": {},
   "outputs": [
    {
     "ename": "AttributeError",
     "evalue": "'int' object has no attribute 'left'",
     "output_type": "error",
     "traceback": [
      "\u001b[1;31m---------------------------------------------------------------------------\u001b[0m",
      "\u001b[1;31mAttributeError\u001b[0m                            Traceback (most recent call last)",
      "Input \u001b[1;32mIn [26]\u001b[0m, in \u001b[0;36m<cell line: 7>\u001b[1;34m()\u001b[0m\n\u001b[0;32m      3\u001b[0m         \u001b[38;5;28;01mreturn\u001b[39;00m []\n\u001b[0;32m      4\u001b[0m     \u001b[38;5;28;01mreturn\u001b[39;00m (in_order(node\u001b[38;5;241m.\u001b[39mleft) \u001b[38;5;241m+\u001b[39m\n\u001b[0;32m      5\u001b[0m             [node\u001b[38;5;241m.\u001b[39mkey]\u001b[38;5;241m+\u001b[39m\n\u001b[0;32m      6\u001b[0m             in_order(node\u001b[38;5;241m.\u001b[39mright))\n\u001b[1;32m----> 7\u001b[0m \u001b[43min_order\u001b[49m\u001b[43m(\u001b[49m\u001b[43mtree2\u001b[49m\u001b[43m)\u001b[49m\n",
      "Input \u001b[1;32mIn [26]\u001b[0m, in \u001b[0;36min_order\u001b[1;34m(node)\u001b[0m\n\u001b[0;32m      2\u001b[0m \u001b[38;5;28;01mif\u001b[39;00m node \u001b[38;5;129;01mis\u001b[39;00m \u001b[38;5;28;01mNone\u001b[39;00m:\n\u001b[0;32m      3\u001b[0m     \u001b[38;5;28;01mreturn\u001b[39;00m []\n\u001b[1;32m----> 4\u001b[0m \u001b[38;5;28;01mreturn\u001b[39;00m (\u001b[43min_order\u001b[49m\u001b[43m(\u001b[49m\u001b[43mnode\u001b[49m\u001b[38;5;241;43m.\u001b[39;49m\u001b[43mleft\u001b[49m\u001b[43m)\u001b[49m \u001b[38;5;241m+\u001b[39m\n\u001b[0;32m      5\u001b[0m         [node\u001b[38;5;241m.\u001b[39mkey]\u001b[38;5;241m+\u001b[39m\n\u001b[0;32m      6\u001b[0m         in_order(node\u001b[38;5;241m.\u001b[39mright))\n",
      "Input \u001b[1;32mIn [26]\u001b[0m, in \u001b[0;36min_order\u001b[1;34m(node)\u001b[0m\n\u001b[0;32m      2\u001b[0m \u001b[38;5;28;01mif\u001b[39;00m node \u001b[38;5;129;01mis\u001b[39;00m \u001b[38;5;28;01mNone\u001b[39;00m:\n\u001b[0;32m      3\u001b[0m     \u001b[38;5;28;01mreturn\u001b[39;00m []\n\u001b[1;32m----> 4\u001b[0m \u001b[38;5;28;01mreturn\u001b[39;00m (\u001b[43min_order\u001b[49m\u001b[43m(\u001b[49m\u001b[43mnode\u001b[49m\u001b[38;5;241;43m.\u001b[39;49m\u001b[43mleft\u001b[49m\u001b[43m)\u001b[49m \u001b[38;5;241m+\u001b[39m\n\u001b[0;32m      5\u001b[0m         [node\u001b[38;5;241m.\u001b[39mkey]\u001b[38;5;241m+\u001b[39m\n\u001b[0;32m      6\u001b[0m         in_order(node\u001b[38;5;241m.\u001b[39mright))\n",
      "Input \u001b[1;32mIn [26]\u001b[0m, in \u001b[0;36min_order\u001b[1;34m(node)\u001b[0m\n\u001b[0;32m      2\u001b[0m \u001b[38;5;28;01mif\u001b[39;00m node \u001b[38;5;129;01mis\u001b[39;00m \u001b[38;5;28;01mNone\u001b[39;00m:\n\u001b[0;32m      3\u001b[0m     \u001b[38;5;28;01mreturn\u001b[39;00m []\n\u001b[1;32m----> 4\u001b[0m \u001b[38;5;28;01mreturn\u001b[39;00m (in_order(\u001b[43mnode\u001b[49m\u001b[38;5;241;43m.\u001b[39;49m\u001b[43mleft\u001b[49m) \u001b[38;5;241m+\u001b[39m\n\u001b[0;32m      5\u001b[0m         [node\u001b[38;5;241m.\u001b[39mkey]\u001b[38;5;241m+\u001b[39m\n\u001b[0;32m      6\u001b[0m         in_order(node\u001b[38;5;241m.\u001b[39mright))\n",
      "\u001b[1;31mAttributeError\u001b[0m: 'int' object has no attribute 'left'"
     ]
    }
   ],
   "source": [
    "def in_order(node):\n",
    "    if node is None:\n",
    "        return []\n",
    "    return (in_order(node.left) +\n",
    "            [node.key]+\n",
    "            in_order(node.right))\n",
    "in_order(tree2)"
   ]
  },
  {
   "cell_type": "code",
   "execution_count": null,
   "id": "316aba4f",
   "metadata": {},
   "outputs": [],
   "source": []
  }
 ],
 "metadata": {
  "kernelspec": {
   "display_name": "Python 3 (ipykernel)",
   "language": "python",
   "name": "python3"
  },
  "language_info": {
   "codemirror_mode": {
    "name": "ipython",
    "version": 3
   },
   "file_extension": ".py",
   "mimetype": "text/x-python",
   "name": "python",
   "nbconvert_exporter": "python",
   "pygments_lexer": "ipython3",
   "version": "3.9.12"
  }
 },
 "nbformat": 4,
 "nbformat_minor": 5
}
