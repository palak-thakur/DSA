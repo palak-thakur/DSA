{
 "cells": [
  {
   "cell_type": "markdown",
   "id": "fc5d5372",
   "metadata": {},
   "source": [
    "BUBBLE SORT"
   ]
  },
  {
   "cell_type": "code",
   "execution_count": 14,
   "id": "f493003c",
   "metadata": {
    "scrolled": true
   },
   "outputs": [
    {
     "data": {
      "text/plain": [
       "[2, 3, 4, 5, 7, 8, 10]"
      ]
     },
     "execution_count": 14,
     "metadata": {},
     "output_type": "execute_result"
    }
   ],
   "source": [
    "def bubble_sort(arr):\n",
    "    n = len(arr)\n",
    "    for i in range(n-1):\n",
    "        for j in range(n-i-1):\n",
    "            if arr[j]>arr[j+1]:\n",
    "                arr[j], arr[j+1] = arr[j+1], arr[j]                \n",
    "    return arr\n",
    "\n",
    "arr = [5, 2, 7, 3, 8, 4, 10]\n",
    "bubble_sort(arr)"
   ]
  },
  {
   "cell_type": "markdown",
   "id": "ada01be2",
   "metadata": {},
   "source": [
    "INSERTION SORT"
   ]
  },
  {
   "cell_type": "code",
   "execution_count": 15,
   "id": "e5aa518e",
   "metadata": {},
   "outputs": [
    {
     "data": {
      "text/plain": [
       "[2, 3, 4, 5, 7, 8, 10]"
      ]
     },
     "execution_count": 15,
     "metadata": {},
     "output_type": "execute_result"
    }
   ],
   "source": [
    "def insertion_sort(arr):\n",
    "    n = len(arr)\n",
    "    for i in range(1, n):\n",
    "        temp = arr[i]\n",
    "        j = i-1\n",
    "        while j>=0 and temp<arr[j]:\n",
    "            arr[j+1] = arr[j]\n",
    "            j -= 1\n",
    "        arr[j+1] = temp    \n",
    "\n",
    "    return arr\n",
    "\n",
    "arr = [5, 2, 7, 3, 8, 4, 10]\n",
    "insertion_sort(arr)\n",
    "                \n",
    "                "
   ]
  },
  {
   "cell_type": "markdown",
   "id": "0538f793",
   "metadata": {},
   "source": [
    "SELECTION SORT"
   ]
  },
  {
   "cell_type": "code",
   "execution_count": 12,
   "id": "46d50322",
   "metadata": {},
   "outputs": [
    {
     "data": {
      "text/plain": [
       "[2, 3, 4, 5, 7, 8, 10]"
      ]
     },
     "execution_count": 12,
     "metadata": {},
     "output_type": "execute_result"
    }
   ],
   "source": [
    "def selection_sort(arr, n):\n",
    "    for i in range(n-1):\n",
    "        min = i\n",
    "        for j in range(i+1, n):\n",
    "            if arr[j] < arr[min]:\n",
    "                min = j\n",
    "        if min != i:\n",
    "            arr[i], arr[min] = arr[min], arr[i]\n",
    "    return arr\n",
    "arr = [5, 2, 7, 3, 8, 4, 10]\n",
    "n = len(arr)\n",
    "selection_sort(arr, n)\n"
   ]
  },
  {
   "cell_type": "markdown",
   "id": "67ae3ee0",
   "metadata": {},
   "source": [
    "QUICK SORT"
   ]
  },
  {
   "cell_type": "code",
   "execution_count": 6,
   "id": "68cde2e9",
   "metadata": {},
   "outputs": [
    {
     "data": {
      "text/plain": [
       "[2, 3, 4, 5, 7, 8, 10]"
      ]
     },
     "execution_count": 6,
     "metadata": {},
     "output_type": "execute_result"
    }
   ],
   "source": [
    "def partition(arr, low, high):\n",
    "    pivot = arr[low]\n",
    "    i = low + 1\n",
    "    j = high\n",
    "    while True:\n",
    "        if i <= j and arr[j] >= pivot:\n",
    "            j -= 1\n",
    "        if i <= j and arr[i] <= pivot:\n",
    "            i += 1\n",
    "        if i <= j:\n",
    "            arr[i], arr[j] = arr[j], arr[i]\n",
    "        else:\n",
    "            break\n",
    "    arr[low], arr[j] = arr[j], arr[low]\n",
    "    return j\n",
    "\n",
    "def quick_sort(arr, low, high):\n",
    "    if low<high:\n",
    "        p = partition(arr, low, high)\n",
    "        quick_sort(arr, low, p - 1)\n",
    "        quick_sort(arr, p+1, high)\n",
    "    return arr\n",
    "arr = [5, 2, 7, 3, 8, 4, 10]\n",
    "n = len(arr)\n",
    "quick_sort(arr, 0 , n-1)"
   ]
  },
  {
   "cell_type": "markdown",
   "id": "b802eeac",
   "metadata": {},
   "source": [
    "MERGE SORT"
   ]
  },
  {
   "cell_type": "code",
   "execution_count": 11,
   "id": "6a5d6125",
   "metadata": {},
   "outputs": [
    {
     "data": {
      "text/plain": [
       "[2, 3, 4, 5, 7, 8, 10]"
      ]
     },
     "execution_count": 11,
     "metadata": {},
     "output_type": "execute_result"
    }
   ],
   "source": [
    "\n",
    "\n",
    "def merge_sort(arr):\n",
    "    if len(arr) > 1:\n",
    "        mid = len(arr)//2\n",
    "        left = arr[ : mid]\n",
    "        right = arr[mid: ]\n",
    "        merge_sort(left)\n",
    "        merge_sort(right)\n",
    "        \n",
    "        i = 0\n",
    "        j = 0\n",
    "        k = 0\n",
    "        while i< len(left) and j< len(right):\n",
    "            if left[i] < right[j]:\n",
    "                arr[k] = left[i]\n",
    "                i += 1\n",
    "            else:\n",
    "                arr[k] = right[j]\n",
    "                j += 1\n",
    "            k += 1   \n",
    "            \n",
    "        while i < len(left):\n",
    "            arr[k] = left[i]\n",
    "            i += 1\n",
    "            k += 1\n",
    "        while j < len(right):\n",
    "            arr[k] = right[j]\n",
    "            j += 1\n",
    "            k += 1\n",
    "            \n",
    "    return arr            \n",
    "    \n",
    "        \n",
    "    \n",
    "    \n",
    "\n",
    "arr = [5, 2, 7, 3, 8, 4, 10]\n",
    "merge_sort(arr)"
   ]
  },
  {
   "cell_type": "code",
   "execution_count": 21,
   "id": "e9cc34bc",
   "metadata": {},
   "outputs": [
    {
     "data": {
      "text/plain": [
       "2.5"
      ]
     },
     "execution_count": 21,
     "metadata": {},
     "output_type": "execute_result"
    }
   ],
   "source": [
    "# median of two sorted arrays\n",
    "def merge_sort(nums):\n",
    "    if len(nums) > 1:\n",
    "        mid = len(nums)//2\n",
    "        left = nums[: mid]\n",
    "        right = nums[mid:]\n",
    "        merge_sort(left)\n",
    "        merge_sort(right)\n",
    "        i, j, k = 0, 0, 0\n",
    "        while i < len(left) and j < len(right):\n",
    "            if left[i] < right[j]:\n",
    "                nums[k] = left[i]\n",
    "                i += 1\n",
    "            else:\n",
    "                nums[k] = right[j]\n",
    "                j += 1\n",
    "            k += 1\n",
    "        while i < len(left):\n",
    "            nums[k] = left[i]\n",
    "            i += 1\n",
    "            k += 1\n",
    "        while j < len(right):\n",
    "            nums[k] = right[j]\n",
    "            j += 1\n",
    "            k += 1\n",
    "    return nums    \n",
    "\n",
    "def findMedianSortedArrays(nums1, nums2):\n",
    "    nums = nums1 + nums2\n",
    "    result = merge_sort(nums)\n",
    "    n = len(result)\n",
    "    if n%2 == 0:\n",
    "        return (result[n//2] + result[n//2 - 1])/2\n",
    "    else:\n",
    "        return result[n//2]\n",
    "    \n",
    "nums1 = [1, 2]\n",
    "nums2 = [3, 4]\n",
    "findMedianSortedArrays(nums1, nums2)"
   ]
  },
  {
   "cell_type": "code",
   "execution_count": null,
   "id": "3ae50db9",
   "metadata": {},
   "outputs": [],
   "source": []
  }
 ],
 "metadata": {
  "kernelspec": {
   "display_name": "Python 3 (ipykernel)",
   "language": "python",
   "name": "python3"
  },
  "language_info": {
   "codemirror_mode": {
    "name": "ipython",
    "version": 3
   },
   "file_extension": ".py",
   "mimetype": "text/x-python",
   "name": "python",
   "nbconvert_exporter": "python",
   "pygments_lexer": "ipython3",
   "version": "3.9.12"
  }
 },
 "nbformat": 4,
 "nbformat_minor": 5
}
