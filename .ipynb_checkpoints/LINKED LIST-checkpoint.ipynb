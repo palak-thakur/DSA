{
 "cells": [
  {
   "cell_type": "markdown",
   "id": "3bcffdf8",
   "metadata": {},
   "source": [
    "# Creating a link list"
   ]
  },
  {
   "cell_type": "code",
   "execution_count": 9,
   "id": "ef5d2494",
   "metadata": {},
   "outputs": [
    {
     "name": "stdout",
     "output_type": "stream",
     "text": [
      "1 --> 2 --> 3 --> "
     ]
    }
   ],
   "source": [
    "class Node:\n",
    "    def __init__(self, key):\n",
    "        self.key = key\n",
    "        self.next = None\n",
    "        \n",
    "class head_node:\n",
    "    def __init__(self):\n",
    "        self.head = None\n",
    "        \n",
    "    def print_node(self):\n",
    "        temp = self.head\n",
    "        while temp:\n",
    "            print(temp.key, end = \" --> \")\n",
    "            temp = temp.next\n",
    "            \n",
    "first = head_node()\n",
    "first.head = Node(1)\n",
    "second = Node(2)\n",
    "third = Node(3)\n",
    "first.head.next = second\n",
    "second.next = third\n",
    "first.print_node()"
   ]
  },
  {
   "cell_type": "markdown",
   "id": "c1cf6208",
   "metadata": {},
   "source": [
    "## Doubly linked list"
   ]
  },
  {
   "cell_type": "code",
   "execution_count": 22,
   "id": "db166298",
   "metadata": {},
   "outputs": [
    {
     "name": "stdout",
     "output_type": "stream",
     "text": [
      "10 <--> 20 <--> 30 <--> 40 <--> "
     ]
    }
   ],
   "source": [
    "class Double_node:\n",
    "    def __init__(self, key):\n",
    "        self.key = key\n",
    "        self.prev = None\n",
    "        self.next = None\n",
    "        \n",
    "class head_Node:\n",
    "    def __init__(self):\n",
    "        self.head = None\n",
    "        \n",
    "    def print_node(self):\n",
    "        temp = self.head\n",
    "        while temp:\n",
    "            print(temp.key, end = \" <--> \")\n",
    "            temp = temp.next\n",
    "            \n",
    "first = head_Node()\n",
    "first.head = Double_node(10)\n",
    "second = Double_node(20)\n",
    "third = Double_node(30)\n",
    "fourth = Double_node(40)\n",
    "first.head.next = second\n",
    "second.prev = first\n",
    "second.next = third\n",
    "third.prev = second\n",
    "third.next = fourth\n",
    "fourth.prev = third\n",
    "first.print_node()"
   ]
  },
  {
   "cell_type": "markdown",
   "id": "8fad146e",
   "metadata": {},
   "source": [
    "### Practice"
   ]
  },
  {
   "cell_type": "markdown",
   "id": "6f0f5e51",
   "metadata": {},
   "source": [
    "## Insert"
   ]
  },
  {
   "cell_type": "code",
   "execution_count": 26,
   "id": "5bb922f8",
   "metadata": {},
   "outputs": [
    {
     "name": "stdout",
     "output_type": "stream",
     "text": [
      "20 --> 5 --> 10 --> 15 --> 25 --> 30 --> "
     ]
    }
   ],
   "source": [
    "# insert element in linked list\n",
    "class Node:\n",
    "    def __init__(self, val):\n",
    "        self.val = val\n",
    "        self.next = None\n",
    "        \n",
    "class head:\n",
    "    def __init__(self):\n",
    "        self.head = None\n",
    "        \n",
    "            \n",
    "    def insert_ele(self, ele, pos):\n",
    "        new_node = Node(ele)\n",
    "        if pos == 0:\n",
    "            new_node.next = self.head\n",
    "            self.head = new_node\n",
    "            return\n",
    "        temp = self.head\n",
    "        for i in range(pos-1):\n",
    "            temp = temp.next\n",
    "            \n",
    "        new_node.next = temp.next\n",
    "        temp.next = new_node\n",
    "        \n",
    "    def print_list(self):\n",
    "        temp = self.head\n",
    "        while temp:\n",
    "            print(temp.val, end = \" --> \")\n",
    "            temp = temp.next\n",
    "            \n",
    "            \n",
    "first = head()\n",
    "first.head = Node(5)\n",
    "second = Node(10)\n",
    "third = Node(15)\n",
    "fourth = Node(25)\n",
    "fifth = Node(30)\n",
    "first.head.next = second\n",
    "second.next = third\n",
    "third.next = fourth\n",
    "fourth.next = fifth\n",
    "\n",
    "first.insert_ele(20, 0)\n",
    "first.print_list()\n"
   ]
  },
  {
   "cell_type": "markdown",
   "id": "d0e310d6",
   "metadata": {},
   "source": [
    "## Delete"
   ]
  },
  {
   "cell_type": "code",
   "execution_count": 35,
   "id": "2b8b94db",
   "metadata": {},
   "outputs": [
    {
     "name": "stdout",
     "output_type": "stream",
     "text": [
      "3 --> 5 --> 7 --> 9 --> "
     ]
    }
   ],
   "source": [
    "# delete an element in linked list\n",
    "class Node:\n",
    "    def __init__(self, val):\n",
    "        self.val = val\n",
    "        self.next = None\n",
    "        \n",
    "class Head:\n",
    "    def __init__(self):\n",
    "        self.head = None\n",
    "            \n",
    "    def delete_ele(self, pos):\n",
    "        if pos == 0:\n",
    "            self.head = self.head.next\n",
    "            return\n",
    "        temp = self.head\n",
    "        for i in range(pos-1):\n",
    "            temp = temp.next\n",
    "        temp.next = temp.next.next \n",
    "        \n",
    "    def print_ele(self):\n",
    "        temp = self.head\n",
    "        while temp:\n",
    "            print(temp.val, end = \" --> \" )\n",
    "            temp = temp.next\n",
    "            \n",
    "        \n",
    "first = Head()\n",
    "first.head = Node(3)\n",
    "second = Node(5)\n",
    "third = Node(7)\n",
    "fourth = Node(8)\n",
    "fifth = Node(9)\n",
    "first.head.next = second\n",
    "second.next = third\n",
    "third.next = fourth\n",
    "fourth.next = fifth\n",
    "\n",
    "first.delete_ele(3)\n",
    "first.print_ele()\n",
    "    "
   ]
  },
  {
   "cell_type": "markdown",
   "id": "fb08c0e6",
   "metadata": {},
   "source": [
    "## Reverse"
   ]
  },
  {
   "cell_type": "code",
   "execution_count": 66,
   "id": "d16447d4",
   "metadata": {},
   "outputs": [
    {
     "name": "stdout",
     "output_type": "stream",
     "text": [
      "3 --> 5 --> 7 --> 8 --> 9 --> \n",
      "9 --> 8 --> 7 --> 5 --> 3 --> "
     ]
    }
   ],
   "source": [
    "#reverse with iterative method\n",
    "class Node:\n",
    "    def __init__(self, key):\n",
    "        self.key = key\n",
    "        self.next = None\n",
    "        \n",
    "class Head:\n",
    "    def __init__(self):\n",
    "        self.head = None\n",
    "        \n",
    "\n",
    "            \n",
    "    def reverse_list(self):\n",
    "        curr = self.head\n",
    "        prev = None\n",
    "        while curr:\n",
    "            temp1 = curr.next\n",
    "            curr.next = prev\n",
    "            prev = curr\n",
    "            curr = temp1\n",
    "        return prev\n",
    "    \n",
    "    def print_node(self):\n",
    "        temp = self.head\n",
    "        while temp:\n",
    "            print(temp.key, end = \" --> \")\n",
    "            temp = temp.next\n",
    "             \n",
    "\n",
    "first = Head()\n",
    "first.head = Node(3)\n",
    "second = Node(5)\n",
    "third = Node(7)\n",
    "fourth = Node(8)\n",
    "fifth = Node(9)\n",
    "first.head.next = second\n",
    "second.next = third\n",
    "third.next = fourth\n",
    "fourth.next = fifth  \n",
    "\n",
    "first.print_node()\n",
    "print()\n",
    "rev = first.reverse_list()\n",
    "while rev:\n",
    "    print(rev.key, end = \" --> \")\n",
    "    rev = rev.next"
   ]
  },
  {
   "cell_type": "code",
   "execution_count": 44,
   "id": "088e5ac0",
   "metadata": {},
   "outputs": [
    {
     "data": {
      "text/plain": [
       "(3, 6)"
      ]
     },
     "execution_count": 44,
     "metadata": {},
     "output_type": "execute_result"
    }
   ],
   "source": [
    "# count and sum of elements\n",
    "\n",
    "\n",
    "class Node:\n",
    "    def __init__(self, data):\n",
    "        self.data = data\n",
    "        self.next = None\n",
    "        \n",
    "class LinkedList:\n",
    "    def __init__(self):\n",
    "        self.head = None\n",
    "        \n",
    "    def middle_ele(self):\n",
    "        temp = self.head\n",
    "        count = 0\n",
    "        sum = 0\n",
    "        while temp:\n",
    "            sum += temp.data\n",
    "            count += 1\n",
    "            temp = temp.next\n",
    "        return count, sum   \n",
    "            \n",
    "            \n",
    "        \n",
    "h_list = LinkedList()\n",
    "h_list.head = Node(1)\n",
    "second = Node(2)\n",
    "third = Node(3)\n",
    "h_list.head.next = second\n",
    "second.next = third\n",
    "h_list.middle_ele()        \n",
    "            "
   ]
  },
  {
   "cell_type": "code",
   "execution_count": 14,
   "id": "9203cb85",
   "metadata": {},
   "outputs": [
    {
     "name": "stdout",
     "output_type": "stream",
     "text": [
      "1 --> 2 --> 3 --> 4 --> "
     ]
    },
    {
     "data": {
      "text/plain": [
       "3"
      ]
     },
     "execution_count": 14,
     "metadata": {},
     "output_type": "execute_result"
    }
   ],
   "source": [
    "# middle element of linked list\n",
    "class Node:\n",
    "    def __init__(self, key):\n",
    "        self.key = key\n",
    "        self.next = None\n",
    "        \n",
    "class head_node:\n",
    "    def __init__(self):\n",
    "        self.head = None\n",
    "        \n",
    "    def print_node(self):\n",
    "        temp = self.head\n",
    "        while temp:\n",
    "            print(temp.key, end = \" --> \")\n",
    "            temp = temp.next\n",
    "            \n",
    "    def print_mid(self):\n",
    "        i = self.head\n",
    "        j = self.head\n",
    "        while j and j.next:\n",
    "            i = i.next\n",
    "            j = j.next.next\n",
    "        return i.key\n",
    "        \n",
    "first = head_node()\n",
    "first.head = Node(1)\n",
    "second = Node(2)\n",
    "third = Node(3)\n",
    "fourth = Node(4)\n",
    "first.head.next = second\n",
    "second.next = third\n",
    "third.next = fourth\n",
    "first.print_node()  \n",
    "first.print_mid()"
   ]
  },
  {
   "cell_type": "code",
   "execution_count": 1,
   "id": "b1243238",
   "metadata": {},
   "outputs": [
    {
     "name": "stdout",
     "output_type": "stream",
     "text": [
      "1 --> 3 --> 5 --> \n",
      "2 --> 4 --> 6 --> "
     ]
    },
    {
     "data": {
      "text/plain": [
       "<__main__.ListNode at 0x19ab4f53190>"
      ]
     },
     "execution_count": 1,
     "metadata": {},
     "output_type": "execute_result"
    }
   ],
   "source": [
    "# merging two sorted linked lists\n",
    "class ListNode(object):\n",
    "    def __init__(self, val=0, next=None):\n",
    "        self.val = val\n",
    "        self.next = next\n",
    "        \n",
    "    def print_list(self):\n",
    "        while self:\n",
    "            print(self.val, end = \" --> \")\n",
    "            self = self.next\n",
    "            \n",
    "class Solution(object):\n",
    "    def mergeTwoLists(self, list1, list2):\n",
    "        temp = ListNode()\n",
    "        list3 = temp\n",
    "        while list1 and list2:\n",
    "            if list1.val <= list2.val:\n",
    "                list3.next = list1\n",
    "                list1 = list1.next\n",
    "            else:\n",
    "                list3.next = list2\n",
    "                list2 = list2.next\n",
    "            list3 = list3.next    \n",
    "                \n",
    "                \n",
    "                \n",
    "        if list1:\n",
    "            list3.next = list1\n",
    "        if list2:\n",
    "            list3.next = list2\n",
    "            \n",
    "        return temp.next \n",
    "    \n",
    "list1 = ListNode(1)\n",
    "list1.next = ListNode(3)\n",
    "list1.next.next = ListNode(5)\n",
    "\n",
    "list2 = ListNode(2)\n",
    "list2.next = ListNode(4)\n",
    "list2.next.next = ListNode(6)\n",
    "\n",
    "list1.print_list()\n",
    "print()\n",
    "list2.print_list()\n",
    "\n",
    "obj = Solution()\n",
    "obj.mergeTwoLists(list1, list2)"
   ]
  }
 ],
 "metadata": {
  "kernelspec": {
   "display_name": "Python 3 (ipykernel)",
   "language": "python",
   "name": "python3"
  },
  "language_info": {
   "codemirror_mode": {
    "name": "ipython",
    "version": 3
   },
   "file_extension": ".py",
   "mimetype": "text/x-python",
   "name": "python",
   "nbconvert_exporter": "python",
   "pygments_lexer": "ipython3",
   "version": "3.9.12"
  }
 },
 "nbformat": 4,
 "nbformat_minor": 5
}
