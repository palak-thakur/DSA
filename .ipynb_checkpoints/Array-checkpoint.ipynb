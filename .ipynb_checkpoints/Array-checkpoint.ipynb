{
 "cells": [
  {
   "cell_type": "code",
   "execution_count": 1,
   "id": "a6e5d5b6",
   "metadata": {},
   "outputs": [
    {
     "data": {
      "text/plain": [
       "[6, 5, 4, 3, 2, 1]"
      ]
     },
     "execution_count": 1,
     "metadata": {},
     "output_type": "execute_result"
    }
   ],
   "source": [
    "# reverse an array\n",
    "arr = [1, 2, 3, 4, 5, 6]\n",
    "start_idx = 0\n",
    "end_idx = len(arr)-1\n",
    "while end_idx > start_idx:\n",
    "    arr[start_idx] , arr[end_idx] = arr[end_idx], arr[start_idx]\n",
    "    start_idx += 1\n",
    "    end_idx -= 1\n",
    "arr    \n",
    "    \n"
   ]
  },
  {
   "cell_type": "code",
   "execution_count": 2,
   "id": "e499b890",
   "metadata": {},
   "outputs": [
    {
     "name": "stdout",
     "output_type": "stream",
     "text": [
      "minimum value is:  1\n",
      "maximum value is:  9\n"
     ]
    }
   ],
   "source": [
    "# minimum and maximum in array\n",
    "arr = [4, 8, 9, 3, 6, 7, 2, 1]\n",
    "arr_max, arr_min = arr[0], arr[0]\n",
    "for i in range(len(arr)):\n",
    "    if arr_max< arr[i]:\n",
    "        arr_max = arr[i]\n",
    "    elif arr_min> arr[i]:\n",
    "        arr_min = arr[i]\n",
    "print(\"minimum value is: \", arr_min)\n",
    "print(\"maximum value is: \", arr_max)\n",
    "        "
   ]
  },
  {
   "cell_type": "code",
   "execution_count": 9,
   "id": "904106a7",
   "metadata": {},
   "outputs": [
    {
     "data": {
      "text/plain": [
       "2"
      ]
     },
     "execution_count": 9,
     "metadata": {},
     "output_type": "execute_result"
    }
   ],
   "source": [
    "#duplicate element in array\n",
    "class Solution:\n",
    "    # @param A : tuple of integers\n",
    "    # @return an integer\n",
    "    def repeatedNumber(self, A):\n",
    "      \n",
    "        B = []\n",
    "        for i in range(len(A)+1):\n",
    "            B.append(0)\n",
    "        for i in range(len(A)):\n",
    "            B[A[i]] += 1\n",
    "        B_max = B[0]\n",
    "        for i in range(len(B)):\n",
    "            if B_max< B[i]:\n",
    "                B_max = B[i]\n",
    "        return B.index(B_max)\n",
    "      \n",
    "\n",
    "obj = Solution()\n",
    "obj.repeatedNumber([3, 4, 1, 4, 2, 2])     "
   ]
  },
  {
   "cell_type": "code",
   "execution_count": 75,
   "id": "ff1ba971",
   "metadata": {},
   "outputs": [
    {
     "name": "stdout",
     "output_type": "stream",
     "text": [
      "3\n"
     ]
    }
   ],
   "source": [
    "#index of peak element\n",
    "class Solution:   \n",
    "    def peakElement(self,arr, n):\n",
    "        for i in range(n-1):\n",
    "            if arr[i]>= arr[i+1] and arr[i]>= arr[i-1]:\n",
    "                print(i)\n",
    "                break\n",
    "        else:\n",
    "            print(n-1)\n",
    "        \n",
    "arr= [6, 1, 15, 19, 9, 13, 12, 6, 7, 2, 10, 4, 1, 14, 11, 14, 14, 13]\n",
    "n = len(arr)\n",
    "obj = Solution()\n",
    "obj.peakElement(arr, n)   \n",
    "    "
   ]
  },
  {
   "cell_type": "code",
   "execution_count": 2,
   "id": "41774b7b",
   "metadata": {},
   "outputs": [
    {
     "data": {
      "text/plain": [
       "(2, 8)"
      ]
     },
     "execution_count": 2,
     "metadata": {},
     "output_type": "execute_result"
    }
   ],
   "source": [
    "# find kth smallest and largest element in array\n",
    "def small_ele(arr, k):\n",
    "    arr.sort()\n",
    "    return arr[k-1], arr[-(k)]\n",
    "\n",
    "arr = [9, 6, 3, 8, 4, 6, 2, 5, 8, 1]\n",
    "small_ele(arr, 2)"
   ]
  },
  {
   "cell_type": "code",
   "execution_count": 16,
   "id": "1bc63f3d",
   "metadata": {},
   "outputs": [
    {
     "data": {
      "text/plain": [
       "[0, 0, 1, 1, 1, 2, 2, 2, 2]"
      ]
     },
     "execution_count": 16,
     "metadata": {},
     "output_type": "execute_result"
    }
   ],
   "source": [
    "# sorting array of 1, 0, 2's\n",
    "def sort_array(arr):\n",
    "    cn_0 = 0\n",
    "    cn_1 = 0\n",
    "    cn_2 = 0\n",
    "    for ele in arr:\n",
    "        if ele == 0:\n",
    "            cn_0 += 1\n",
    "        elif ele == 1:\n",
    "            cn_1 += 1\n",
    "        else:\n",
    "            cn_2 += 1\n",
    "    arr[:cn_0] = [0] * cn_0    \n",
    "    arr[cn_0:] = [1] * cn_1\n",
    "    arr[cn_1 + cn_0 :] = [2] * (cn_2)\n",
    "    return arr\n",
    "arr = [1, 2, 2, 2, 1, 0, 0, 1, 2]\n",
    "sort_array(arr)\n",
    "            \n",
    "    "
   ]
  },
  {
   "cell_type": "code",
   "execution_count": 53,
   "id": "34e2a13f",
   "metadata": {},
   "outputs": [
    {
     "data": {
      "text/plain": [
       "[-12, -3, -6, -13, -5, -7, 5, 6, 11]"
      ]
     },
     "execution_count": 53,
     "metadata": {},
     "output_type": "execute_result"
    }
   ],
   "source": [
    "#move negative element to 1 side of array\n",
    "def move_ele(arr, n):\n",
    "    left = 0\n",
    "    right = n\n",
    "    while left < right:\n",
    "        if arr[left] < 0:\n",
    "            left += 1\n",
    "        if arr[right] > 0:\n",
    "            right -= 1\n",
    "        if left < right:    \n",
    "            arr[left] , arr[right] = arr[right], arr[left]\n",
    "    return arr\n",
    "arr = [-12, 11, -13, -5, 6, -7, 5, -6, -3]\n",
    "n = len(arr) - 1\n",
    "move_ele(arr, n)\n",
    "\n"
   ]
  },
  {
   "cell_type": "code",
   "execution_count": 8,
   "id": "e975b8fa",
   "metadata": {},
   "outputs": [
    {
     "name": "stdout",
     "output_type": "stream",
     "text": [
      "3 5 "
     ]
    }
   ],
   "source": [
    "#intersection and union of two sorted array\n",
    "def intersection(arr1, arr2):\n",
    "    for ele in arr1:\n",
    "        if ele in arr2:\n",
    "            print(ele, end =\" \")\n",
    "\n",
    "arr1 = [1, 3, 4, 5, 7]\n",
    "arr2 = [2, 3, 5, 6]\n",
    "intersection(arr1, arr2)\n"
   ]
  },
  {
   "cell_type": "code",
   "execution_count": 7,
   "id": "f77fe8b2",
   "metadata": {},
   "outputs": [
    {
     "name": "stdout",
     "output_type": "stream",
     "text": [
      "1 2 3 4 5 6 7 "
     ]
    }
   ],
   "source": [
    "# union of two sorted array\n",
    "def union(arr1, arr2, n, m):\n",
    "    i = 0\n",
    "    j = 0\n",
    "    while i < n and j<m:\n",
    "        if arr1[i] < arr2[j]:\n",
    "            print(arr1[i], end = \" \")\n",
    "            i += 1\n",
    "        elif arr2[j] < arr1[i]:\n",
    "            print(arr2[j], end = \" \")\n",
    "            j += 1   \n",
    "        else:\n",
    "            print(arr1[i], end =\" \")\n",
    "            i += 1\n",
    "            j += 1\n",
    "            \n",
    "    while i < n:\n",
    "        print(arr1[i], end =\" \")\n",
    "        i += 1\n",
    "        \n",
    "    while j < m:\n",
    "        print(arr2[j], end, end =\" \")\n",
    "        j += 1\n",
    "arr1 = [1, 3, 4, 5, 7]\n",
    "arr2 = [2, 3, 5, 6]\n",
    "n = len(arr1)\n",
    "m = len(arr2)\n",
    "union(arr1, arr2, n, m)        "
   ]
  },
  {
   "cell_type": "code",
   "execution_count": 11,
   "id": "6bf118a5",
   "metadata": {},
   "outputs": [
    {
     "data": {
      "text/plain": [
       "[5, 1, 2, 3, 4]"
      ]
     },
     "execution_count": 11,
     "metadata": {},
     "output_type": "execute_result"
    }
   ],
   "source": [
    "#cyclically rotate array by 1\n",
    "def rotate(arr, n):\n",
    "    temp = arr[-1]\n",
    "    for i in range(n):\n",
    "        arr[i], temp = temp, arr[i]\n",
    "    return arr\n",
    "arr = [1, 2, 3, 4, 5]\n",
    "n = len(arr)\n",
    "rotate(arr, n)\n",
    "        \n",
    "        "
   ]
  },
  {
   "cell_type": "code",
   "execution_count": 12,
   "id": "bb1484e8",
   "metadata": {},
   "outputs": [
    {
     "data": {
      "text/plain": [
       "[5, 1, 2, 3, 4]"
      ]
     },
     "execution_count": 12,
     "metadata": {},
     "output_type": "execute_result"
    }
   ],
   "source": [
    "#cyclically rotate array by 1\n",
    "def rotate(arr, n):\n",
    "    temp = arr[-1]\n",
    "    for i in range(n, 0, -1):\n",
    "        arr[i] = arr[i-1]\n",
    "    arr[0] = temp    \n",
    "    return arr\n",
    "arr = [1, 2, 3, 4, 5]\n",
    "n = len(arr)-1\n",
    "rotate(arr, n)"
   ]
  },
  {
   "cell_type": "code",
   "execution_count": 13,
   "id": "200dac56",
   "metadata": {},
   "outputs": [
    {
     "data": {
      "text/plain": [
       "10"
      ]
     },
     "execution_count": 13,
     "metadata": {},
     "output_type": "execute_result"
    }
   ],
   "source": [
    "#largest sum contegous subarray\n",
    "def largest_sum(arr, n):\n",
    "    i, j, sumn = 0, 1, 0\n",
    "    for i in range(n):\n",
    "        sumn += arr[i]\n",
    "        for j in range(i, n):\n",
    "            sumn += arr[j]\n",
    "            \n",
    "    return sumn\n",
    "arr = [1, 2, 3, 4, 5]\n",
    "n = len(arr)-1\n",
    "largest_sum(arr, n)\n"
   ]
  },
  {
   "cell_type": "code",
   "execution_count": 1,
   "id": "ce7e4cb4",
   "metadata": {},
   "outputs": [
    {
     "data": {
      "text/plain": [
       "4"
      ]
     },
     "execution_count": 1,
     "metadata": {},
     "output_type": "execute_result"
    }
   ],
   "source": [
    "#frequency of an integer\n",
    "def findFrequency(arr, n, x):\n",
    "    sumn = 0\n",
    "    for i in range(n):\n",
    "        if arr[i] == x:\n",
    "            sumn += 1\n",
    "    return sumn   \n",
    "arr = [1, 2, 3, 2, 2, 2, 3]\n",
    "n = len(arr) -1\n",
    "x = 2\n",
    "findFrequency(arr, n, x)\n",
    "\n",
    "#arr.count(x), can also be used"
   ]
  },
  {
   "cell_type": "code",
   "execution_count": 20,
   "id": "e55529b0",
   "metadata": {},
   "outputs": [
    {
     "data": {
      "text/plain": [
       "-1"
      ]
     },
     "execution_count": 20,
     "metadata": {},
     "output_type": "execute_result"
    }
   ],
   "source": [
    "# Subarray with given sum\n",
    "def subArraySum(arr, n, s): \n",
    "    \n",
    "    for i in range(n):\n",
    "        sumn = 0\n",
    "        for j in range(i, n):\n",
    "            sumn += arr[j]\n",
    "            if sumn > s:\n",
    "                break\n",
    "            if sumn == s:\n",
    "                return i+1 , j+1\n",
    "    else:\n",
    "        return -1\n",
    "            \n",
    "arr = [13, 22, 33, 77, 55]\n",
    "n = len(arr) -1\n",
    "s = 12\n",
    "subArraySum(arr, n, s)"
   ]
  }
 ],
 "metadata": {
  "kernelspec": {
   "display_name": "Python 3 (ipykernel)",
   "language": "python",
   "name": "python3"
  },
  "language_info": {
   "codemirror_mode": {
    "name": "ipython",
    "version": 3
   },
   "file_extension": ".py",
   "mimetype": "text/x-python",
   "name": "python",
   "nbconvert_exporter": "python",
   "pygments_lexer": "ipython3",
   "version": "3.9.12"
  }
 },
 "nbformat": 4,
 "nbformat_minor": 5
}
