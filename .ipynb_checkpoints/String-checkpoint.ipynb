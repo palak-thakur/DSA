{
 "cells": [
  {
   "cell_type": "code",
   "execution_count": 18,
   "id": "6169adb2",
   "metadata": {},
   "outputs": [
    {
     "name": "stdout",
     "output_type": "stream",
     "text": [
      "15383799\n"
     ]
    }
   ],
   "source": [
    "# Vowel and Consonant Substrings\n",
    "A = \"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...\"\n",
    "\n",
    "n = len(A)\n",
    "vow = 0\n",
    "for i in range(n-1):\n",
    "    if A[i] in \"aeiou\":\n",
    "        for j in range(i+1, n):\n",
    "            if A[j] not in \"aeiou\":\n",
    "                vow += 1\n",
    "\n",
    "    else:\n",
    "        for j in range(i+1, n):\n",
    "             if A[j] in \"aeiou\":\n",
    "                vow +=  1\n",
    "print(vow)"
   ]
  },
  {
   "cell_type": "code",
   "execution_count": 4,
   "id": "a1d9ef72",
   "metadata": {},
   "outputs": [
    {
     "data": {
      "text/plain": [
       "17"
      ]
     },
     "execution_count": 4,
     "metadata": {},
     "output_type": "execute_result"
    }
   ],
   "source": [
    "# Vowel and Consonant Substrings\n",
    "def vow_con(arr, n):\n",
    "    sumn = 0\n",
    "    for i in range(n):\n",
    "        if arr[i] in \"aeiou\":\n",
    "            sumn += len([map(lambda x: x not in \"aeiou\", arr[i+1:])])\n",
    "        else:\n",
    "            sumn += len([map(lambda x: x in \"aeiou\", arr[i+1:])])\n",
    "    return sumn\n",
    "\n",
    "arr = \"inttnikjmjbemrberk\"\n",
    "n =len(arr) - 1\n",
    "vow_con(arr, n)"
   ]
  },
  {
   "cell_type": "code",
   "execution_count": 21,
   "id": "c5de13ba",
   "metadata": {},
   "outputs": [
    {
     "data": {
      "text/plain": [
       "'palak.is.name.my'"
      ]
     },
     "execution_count": 21,
     "metadata": {},
     "output_type": "execute_result"
    }
   ],
   "source": [
    "#Reverse words in a given string \n",
    "def reverseWords(S):\n",
    "    ls = S.split(\".\")\n",
    "    ls.reverse()\n",
    "    return \".\".join(ls)\n",
    "\n",
    "S = \"my.name.is.palak\"\n",
    "reverseWords(S)"
   ]
  },
  {
   "cell_type": "code",
   "execution_count": 23,
   "id": "6a29218e",
   "metadata": {},
   "outputs": [
    {
     "data": {
      "text/plain": [
       "'abcdabefg'"
      ]
     },
     "execution_count": 23,
     "metadata": {},
     "output_type": "execute_result"
    }
   ],
   "source": [
    "a= \"abcd\"\n",
    "b = \"abefg\"\n"
   ]
  },
  {
   "cell_type": "code",
   "execution_count": 40,
   "id": "e6521fe6",
   "metadata": {},
   "outputs": [
    {
     "name": "stdout",
     "output_type": "stream",
     "text": [
      "46967\n"
     ]
    }
   ],
   "source": [
    "a = \"AzZGBauYuTknYjjWEEbLvqMQwnoSgXKBdHKEVpeoxYNNtBfrxQrPauttMzjKFayKwMeuChjzCocgAHfAmPCatOqarzLuabyTnxoheeocVshfERNssVPfRyPmwvOVGbzNAuvryYNWwIeyZLMlLbkcFFJRHjEIgIwOThRJJFpLbunVrbhAYsMtdsKslLAGElwrZjvZweIytMpPEYVmktQeNleNROcTjrNxXeHvOMMTMfqZHTUjetojHFzZwOekfAILYISANxeJFRNgeZDKoOTddXqxduPIjGXsRSSkgIqKMeSqlQwAKtdrkvHLgmKleNAPEztGMPmZzUuCImLAhzUnXmsVzFvJUTeIKleuRnMPNAPWJYAZLXgzTBPmkXVShbBSlIAJSeFgvRFvcoqfVFgHUefxUxuYFCfUxbxlOslUhYRFXKmMmqDIQhhfXyGqUwGMSYeLLpEsKAhvFUzavDCOUgtmmNMnsvfmCdPWuWIjuUfZCBTrWnaDopbqXcjzSqRMpQWIBNnMcOQZjDkjPkxsuwENYQyjgSHFJrgSLnwbEInBfdeIfBbVuZZbBrblJgKHOmLZACLQkSRxxQJeUMPIQutraxFtrRcSeqAejOTSqaFGglQOoWPkcNOnLIgfclWNtjGQRVMlqCPUnUlOLbHfkzUyNAmTsswWtZjIGUBrLmRmstHgVcRUgWdQTCEPRzjPVTMJRJocYHftwoRzOSyQexjmceRHdqFdgNuGmGTUdXQaNwKmvOUzZPzGCBVcbVLgMoQrESbpVGteVVntOwEWxXsZnSAoIfBSsWVhDFBuDTkcrnsPdmmSHymouxHlcgtjgKUAPznxsIRUjDFsrjadJjEtPaWTVBHpatqYeSgrpWJDOGfgIGQPcTIXVsCVyCfKMpcXWGkvwuRuTmvCbNMLeUkZrEpYZdlKAgFELfwCCbZCYBcXhfUrsIHfdwhYyxHKAMYMERwlyRtxObDoxBhjXmynYkmkYZrkzlCuvrhW\"\n",
    "sumn = 0\n",
    "for i in range(len(a)):\n",
    "    if a[i] in \"aeiou\":\n",
    "        sumn += len(a[i:])\n",
    "print(sumn)\n",
    "        \n"
   ]
  },
  {
   "cell_type": "code",
   "execution_count": null,
   "id": "92834869",
   "metadata": {},
   "outputs": [],
   "source": [
    "#longest prefix\n",
    "arr = ['geeksforgeeks', 'geeks', 'geek', 'geezer'] \n",
    "n = 4\n",
    "min_ele = min(arr, key = len)\n",
    "i = len(min_ele)\n",
    "while i>0:\n",
    "    num = 0\n",
    "    for i in range(n):\n",
    "        if arr[i].startswith(min_ele[:i]):\n",
    "            num += 1\n",
    "            continue\n",
    "        else:\n",
    "            break\n",
    "    if num == n:\n",
    "        print(min_ele[:i])\n",
    "        break\n",
    "    i -= 1\n"
   ]
  },
  {
   "cell_type": "code",
   "execution_count": 3,
   "id": "7e41a310",
   "metadata": {},
   "outputs": [
    {
     "data": {
      "text/plain": [
       "'fedcba'"
      ]
     },
     "execution_count": 3,
     "metadata": {},
     "output_type": "execute_result"
    }
   ],
   "source": [
    "# reverse a string\n",
    "st =\"abcdef\"\n",
    "st[::-1]\n",
    "    "
   ]
  },
  {
   "cell_type": "code",
   "execution_count": 14,
   "id": "86c2ea04",
   "metadata": {},
   "outputs": [
    {
     "data": {
      "text/plain": [
       "'palindrome'"
      ]
     },
     "execution_count": 14,
     "metadata": {},
     "output_type": "execute_result"
    }
   ],
   "source": [
    "#palindrome\n",
    "def palindrome(st):\n",
    "    if st == st[::-1]:\n",
    "        return \"palindrome\"\n",
    "    else:\n",
    "        return \"not a plindrome\"\n",
    "st = \"redivider\"\n",
    "palindrome(st)"
   ]
  },
  {
   "cell_type": "code",
   "execution_count": null,
   "id": "0dbe3dbc",
   "metadata": {},
   "outputs": [],
   "source": []
  }
 ],
 "metadata": {
  "kernelspec": {
   "display_name": "Python 3 (ipykernel)",
   "language": "python",
   "name": "python3"
  },
  "language_info": {
   "codemirror_mode": {
    "name": "ipython",
    "version": 3
   },
   "file_extension": ".py",
   "mimetype": "text/x-python",
   "name": "python",
   "nbconvert_exporter": "python",
   "pygments_lexer": "ipython3",
   "version": "3.9.12"
  }
 },
 "nbformat": 4,
 "nbformat_minor": 5
}
