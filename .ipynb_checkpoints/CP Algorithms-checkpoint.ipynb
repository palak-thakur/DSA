{
 "cells": [
  {
   "cell_type": "markdown",
   "id": "8c4fbd0b",
   "metadata": {},
   "source": [
    "# Sieve of Eratosthenes"
   ]
  },
  {
   "cell_type": "code",
   "execution_count": 11,
   "id": "b07883ba",
   "metadata": {},
   "outputs": [
    {
     "name": "stdout",
     "output_type": "stream",
     "text": [
      "2\n",
      "3\n",
      "5\n",
      "7\n",
      "11\n",
      "13\n",
      "17\n",
      "19\n"
     ]
    }
   ],
   "source": [
    "# used to find all prime numbers in a given range\n",
    "def seieveoferatosthenes(n):\n",
    "    prime = [True for i in range(n+1)]\n",
    "    prime[0], prime[1] = False, False\n",
    "    i = 2\n",
    "    while i*i <= n:\n",
    "        for j in range(i**2, n+1, i):\n",
    "            prime[j] = False\n",
    "        i += 1    \n",
    "            \n",
    "    return prime\n",
    "            \n",
    "res = seieveoferatosthenes(20)           \n",
    "for i in range(len(res)):\n",
    "    if res[i]:\n",
    "        print(i)"
   ]
  },
  {
   "cell_type": "markdown",
   "id": "60d4724a",
   "metadata": {},
   "source": [
    "# Euclid GCD"
   ]
  },
  {
   "cell_type": "code",
   "execution_count": 1,
   "id": "9831d263",
   "metadata": {},
   "outputs": [
    {
     "name": "stdout",
     "output_type": "stream",
     "text": [
      "enter number 1: 12\n",
      "enter number 2: 60\n"
     ]
    },
    {
     "data": {
      "text/plain": [
       "12"
      ]
     },
     "execution_count": 1,
     "metadata": {},
     "output_type": "execute_result"
    }
   ],
   "source": [
    "# to find hcf/gcd of two numbers\n",
    "def gcd(a, b):\n",
    "    if b == 0:\n",
    "        return a\n",
    "    return gcd(b, a%b)\n",
    "\n",
    "a = int(input('enter number 1: '))\n",
    "b = int(input('enter number 2: '))\n",
    "gcd(a,b)"
   ]
  },
  {
   "cell_type": "code",
   "execution_count": 14,
   "id": "6b57f317",
   "metadata": {},
   "outputs": [
    {
     "data": {
      "text/plain": [
       "12"
      ]
     },
     "execution_count": 14,
     "metadata": {},
     "output_type": "execute_result"
    }
   ],
   "source": [
    "# conditional expression\n",
    "a = 24\n",
    "b = 60\n",
    "def gcd(a,b):\n",
    "    return a if b ==0 else gcd(b, a%b) \n",
    "gcd(a,b)"
   ]
  }
 ],
 "metadata": {
  "kernelspec": {
   "display_name": "Python 3 (ipykernel)",
   "language": "python",
   "name": "python3"
  },
  "language_info": {
   "codemirror_mode": {
    "name": "ipython",
    "version": 3
   },
   "file_extension": ".py",
   "mimetype": "text/x-python",
   "name": "python",
   "nbconvert_exporter": "python",
   "pygments_lexer": "ipython3",
   "version": "3.9.12"
  }
 },
 "nbformat": 4,
 "nbformat_minor": 5
}
