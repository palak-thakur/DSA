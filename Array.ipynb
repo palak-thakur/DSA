{
 "cells": [
  {
   "cell_type": "code",
   "execution_count": 1,
   "id": "a6e5d5b6",
   "metadata": {},
   "outputs": [
    {
     "data": {
      "text/plain": [
       "[6, 5, 4, 3, 2, 1]"
      ]
     },
     "execution_count": 1,
     "metadata": {},
     "output_type": "execute_result"
    }
   ],
   "source": [
    "# reverse an array\n",
    "arr = [1, 2, 3, 4, 5, 6]\n",
    "start_idx = 0\n",
    "end_idx = len(arr)-1\n",
    "while end_idx > start_idx:\n",
    "    arr[start_idx] , arr[end_idx] = arr[end_idx], arr[start_idx]\n",
    "    start_idx += 1\n",
    "    end_idx -= 1\n",
    "arr    \n",
    "    \n"
   ]
  },
  {
   "cell_type": "code",
   "execution_count": 2,
   "id": "e499b890",
   "metadata": {},
   "outputs": [
    {
     "name": "stdout",
     "output_type": "stream",
     "text": [
      "minimum value is:  1\n",
      "maximum value is:  9\n"
     ]
    }
   ],
   "source": [
    "# minimum and maximum in array\n",
    "arr = [4, 8, 9, 3, 6, 7, 2, 1]\n",
    "arr_max, arr_min = arr[0], arr[0]\n",
    "for i in range(len(arr)):\n",
    "    if arr_max< arr[i]:\n",
    "        arr_max = arr[i]\n",
    "    elif arr_min> arr[i]:\n",
    "        arr_min = arr[i]\n",
    "print(\"minimum value is: \", arr_min)\n",
    "print(\"maximum value is: \", arr_max)\n",
    "        "
   ]
  },
  {
   "cell_type": "code",
   "execution_count": 9,
   "id": "904106a7",
   "metadata": {},
   "outputs": [
    {
     "data": {
      "text/plain": [
       "2"
      ]
     },
     "execution_count": 9,
     "metadata": {},
     "output_type": "execute_result"
    }
   ],
   "source": [
    "#duplicate element in array\n",
    "class Solution:\n",
    "    # @param A : tuple of integers\n",
    "    # @return an integer\n",
    "    def repeatedNumber(self, A):\n",
    "      \n",
    "        B = []\n",
    "        for i in range(len(A)+1):\n",
    "            B.append(0)\n",
    "        for i in range(len(A)):\n",
    "            B[A[i]] += 1\n",
    "        B_max = B[0]\n",
    "        for i in range(len(B)):\n",
    "            if B_max< B[i]:\n",
    "                B_max = B[i]\n",
    "        return B.index(B_max)\n",
    "      \n",
    "\n",
    "obj = Solution()\n",
    "obj.repeatedNumber([3, 4, 1, 4, 2, 2])     "
   ]
  },
  {
   "cell_type": "code",
   "execution_count": 75,
   "id": "ff1ba971",
   "metadata": {},
   "outputs": [
    {
     "name": "stdout",
     "output_type": "stream",
     "text": [
      "3\n"
     ]
    }
   ],
   "source": [
    "#index of peak element\n",
    "class Solution:   \n",
    "    def peakElement(self,arr, n):\n",
    "        for i in range(n-1):\n",
    "            if arr[i]>= arr[i+1] and arr[i]>= arr[i-1]:\n",
    "                print(i)\n",
    "                break\n",
    "        else:\n",
    "            print(n-1)\n",
    "        \n",
    "arr= [6, 1, 15, 19, 9, 13, 12, 6, 7, 2, 10, 4, 1, 14, 11, 14, 14, 13]\n",
    "n = len(arr)\n",
    "obj = Solution()\n",
    "obj.peakElement(arr, n)   \n",
    "    "
   ]
  },
  {
   "cell_type": "code",
   "execution_count": 2,
   "id": "41774b7b",
   "metadata": {},
   "outputs": [
    {
     "data": {
      "text/plain": [
       "(2, 8)"
      ]
     },
     "execution_count": 2,
     "metadata": {},
     "output_type": "execute_result"
    }
   ],
   "source": [
    "# find kth smallest and largest element in array\n",
    "def small_ele(arr, k):\n",
    "    arr.sort()\n",
    "    return arr[k-1], arr[-(k)]\n",
    "\n",
    "arr = [9, 6, 3, 8, 4, 6, 2, 5, 8, 1]\n",
    "small_ele(arr, 2)"
   ]
  },
  {
   "cell_type": "code",
   "execution_count": 16,
   "id": "1bc63f3d",
   "metadata": {},
   "outputs": [
    {
     "data": {
      "text/plain": [
       "[0, 0, 1, 1, 1, 2, 2, 2, 2]"
      ]
     },
     "execution_count": 16,
     "metadata": {},
     "output_type": "execute_result"
    }
   ],
   "source": [
    "# sorting array of 1, 0, 2's\n",
    "def sort_array(arr):\n",
    "    cn_0 = 0\n",
    "    cn_1 = 0\n",
    "    cn_2 = 0\n",
    "    for ele in arr:\n",
    "        if ele == 0:\n",
    "            cn_0 += 1\n",
    "        elif ele == 1:\n",
    "            cn_1 += 1\n",
    "        else:\n",
    "            cn_2 += 1\n",
    "    arr[:cn_0] = [0] * cn_0    \n",
    "    arr[cn_0:] = [1] * cn_1\n",
    "    arr[cn_1 + cn_0 :] = [2] * (cn_2)\n",
    "    return arr\n",
    "arr = [1, 2, 2, 2, 1, 0, 0, 1, 2]\n",
    "sort_array(arr)\n",
    "            \n",
    "    "
   ]
  },
  {
   "cell_type": "code",
   "execution_count": 53,
   "id": "34e2a13f",
   "metadata": {},
   "outputs": [
    {
     "data": {
      "text/plain": [
       "[-12, -3, -6, -13, -5, -7, 5, 6, 11]"
      ]
     },
     "execution_count": 53,
     "metadata": {},
     "output_type": "execute_result"
    }
   ],
   "source": [
    "#move negative element to 1 side of array\n",
    "def move_ele(arr, n):\n",
    "    left = 0\n",
    "    right = n\n",
    "    while left < right:\n",
    "        if arr[left] < 0:\n",
    "            left += 1\n",
    "        if arr[right] > 0:\n",
    "            right -= 1\n",
    "        if left < right:    \n",
    "            arr[left] , arr[right] = arr[right], arr[left]\n",
    "    return arr\n",
    "arr = [-12, 11, -13, -5, 6, -7, 5, -6, -3]\n",
    "n = len(arr) - 1\n",
    "move_ele(arr, n)\n",
    "\n"
   ]
  },
  {
   "cell_type": "code",
   "execution_count": 8,
   "id": "e975b8fa",
   "metadata": {},
   "outputs": [
    {
     "name": "stdout",
     "output_type": "stream",
     "text": [
      "3 5 "
     ]
    }
   ],
   "source": [
    "#intersection and union of two sorted array\n",
    "def intersection(arr1, arr2):\n",
    "    for ele in arr1:\n",
    "        if ele in arr2:\n",
    "            print(ele, end =\" \")\n",
    "\n",
    "arr1 = [1, 3, 4, 5, 7]\n",
    "arr2 = [2, 3, 5, 6]\n",
    "intersection(arr1, arr2)\n"
   ]
  },
  {
   "cell_type": "code",
   "execution_count": 7,
   "id": "f77fe8b2",
   "metadata": {},
   "outputs": [
    {
     "name": "stdout",
     "output_type": "stream",
     "text": [
      "1 2 3 4 5 6 7 "
     ]
    }
   ],
   "source": [
    "# union of two sorted array\n",
    "def union(arr1, arr2, n, m):\n",
    "    i = 0\n",
    "    j = 0\n",
    "    while i < n and j<m:\n",
    "        if arr1[i] < arr2[j]:\n",
    "            print(arr1[i], end = \" \")\n",
    "            i += 1\n",
    "        elif arr2[j] < arr1[i]:\n",
    "            print(arr2[j], end = \" \")\n",
    "            j += 1   \n",
    "        else:\n",
    "            print(arr1[i], end =\" \")\n",
    "            i += 1\n",
    "            j += 1\n",
    "            \n",
    "    while i < n:\n",
    "        print(arr1[i], end =\" \")\n",
    "        i += 1\n",
    "        \n",
    "    while j < m:\n",
    "        print(arr2[j], end, end =\" \")\n",
    "        j += 1\n",
    "arr1 = [1, 3, 4, 5, 7]\n",
    "arr2 = [2, 3, 5, 6]\n",
    "n = len(arr1)\n",
    "m = len(arr2)\n",
    "union(arr1, arr2, n, m)        "
   ]
  },
  {
   "cell_type": "code",
   "execution_count": 11,
   "id": "6bf118a5",
   "metadata": {},
   "outputs": [
    {
     "data": {
      "text/plain": [
       "[5, 1, 2, 3, 4]"
      ]
     },
     "execution_count": 11,
     "metadata": {},
     "output_type": "execute_result"
    }
   ],
   "source": [
    "#cyclically rotate array by 1\n",
    "def rotate(arr, n):\n",
    "    temp = arr[-1]\n",
    "    for i in range(n):\n",
    "        arr[i], temp = temp, arr[i]\n",
    "    return arr\n",
    "arr = [1, 2, 3, 4, 5]\n",
    "n = len(arr)\n",
    "rotate(arr, n)\n",
    "        \n",
    "        "
   ]
  },
  {
   "cell_type": "code",
   "execution_count": 12,
   "id": "bb1484e8",
   "metadata": {},
   "outputs": [
    {
     "data": {
      "text/plain": [
       "[5, 1, 2, 3, 4]"
      ]
     },
     "execution_count": 12,
     "metadata": {},
     "output_type": "execute_result"
    }
   ],
   "source": [
    "#cyclically rotate array by 1\n",
    "def rotate(arr, n):\n",
    "    temp = arr[-1]\n",
    "    for i in range(n, 0, -1):\n",
    "        arr[i] = arr[i-1]\n",
    "    arr[0] = temp    \n",
    "    return arr\n",
    "arr = [1, 2, 3, 4, 5]\n",
    "n = len(arr)-1\n",
    "rotate(arr, n)"
   ]
  },
  {
   "cell_type": "code",
   "execution_count": 4,
   "id": "200dac56",
   "metadata": {},
   "outputs": [
    {
     "data": {
      "text/plain": [
       "11"
      ]
     },
     "execution_count": 4,
     "metadata": {},
     "output_type": "execute_result"
    }
   ],
   "source": [
    "#largest sum contegous subarray\n",
    "#kadan's algorithm\n",
    "\n",
    "def largest_sum(A):\n",
    "    max_sum, curr_sum = 0, 0\n",
    "    for i in range(len(A)):\n",
    "        curr_sum += A[i]\n",
    "        if curr_sum > max_sum:\n",
    "            max_sum = curr_sum\n",
    "        if curr_sum < 0:\n",
    "            curr_sum = 0\n",
    "    return max_sum\n",
    "\n",
    "A = [1, 2, 3, -7, 2, 3, -1, 2, 5, -7]\n",
    "largest_sum(A)\n"
   ]
  },
  {
   "cell_type": "code",
   "execution_count": 1,
   "id": "ce7e4cb4",
   "metadata": {},
   "outputs": [
    {
     "data": {
      "text/plain": [
       "4"
      ]
     },
     "execution_count": 1,
     "metadata": {},
     "output_type": "execute_result"
    }
   ],
   "source": [
    "#frequency of an integer\n",
    "def findFrequency(arr, n, x):\n",
    "    sumn = 0\n",
    "    for i in range(n):\n",
    "        if arr[i] == x:\n",
    "            sumn += 1\n",
    "    return sumn   \n",
    "arr = [1, 2, 3, 2, 2, 2, 3]\n",
    "n = len(arr) -1\n",
    "x = 2\n",
    "findFrequency(arr, n, x)\n",
    "\n",
    "#arr.count(x), can also be used"
   ]
  },
  {
   "cell_type": "code",
   "execution_count": 11,
   "id": "e55529b0",
   "metadata": {},
   "outputs": [
    {
     "data": {
      "text/plain": [
       "(2, 3)"
      ]
     },
     "execution_count": 11,
     "metadata": {},
     "output_type": "execute_result"
    }
   ],
   "source": [
    "# Subarray with given sum\n",
    "def subArraySum(A, n, s): \n",
    "    i, j = 0, 1\n",
    "    sumn = A[i]\n",
    "    while j<n:\n",
    "        sumn += A[j]\n",
    "        if sumn == s:\n",
    "            return i, j\n",
    "        elif sumn > s:\n",
    "            i += 1\n",
    "            j = i + 1\n",
    "            sumn = A[i]\n",
    "        else:\n",
    "            j += 1\n",
    "    return -1\n",
    "            \n",
    "A = [13, 22, 33, 77, 55]\n",
    "n = len(arr)\n",
    "s = 110\n",
    "subArraySum(arr, n, s)"
   ]
  },
  {
   "cell_type": "code",
   "execution_count": 7,
   "id": "3c643f83",
   "metadata": {},
   "outputs": [
    {
     "data": {
      "text/plain": [
       "6"
      ]
     },
     "execution_count": 7,
     "metadata": {},
     "output_type": "execute_result"
    }
   ],
   "source": [
    "#missing number\n",
    "class Solution:\n",
    "    def MissingNumber(self,array,n):\n",
    "        sumn = sum(range(1, n+1))\n",
    "        sum_ele = sum(array)\n",
    "        return sumn - sum_ele\n",
    "    \n",
    "arr = [1, 2, 3, 4, 5, 7]\n",
    "n= len(arr) + 1\n",
    "obj = Solution()\n",
    "obj.MissingNumber(arr, n)"
   ]
  },
  {
   "cell_type": "code",
   "execution_count": 22,
   "id": "951c9286",
   "metadata": {},
   "outputs": [
    {
     "name": "stdout",
     "output_type": "stream",
     "text": [
      "-1\n"
     ]
    }
   ],
   "source": [
    "#duplicates in an array\n",
    "from collections import Counter\n",
    "arr = [0, 1, 2, 3]\n",
    "res = Counter(arr)\n",
    "for key,val in res.items():\n",
    "    if val>1:\n",
    "        print(key, end =\" \")\n",
    "else:\n",
    "    print('-1')\n",
    "    "
   ]
  },
  {
   "cell_type": "code",
   "execution_count": 23,
   "id": "3115f297",
   "metadata": {},
   "outputs": [
    {
     "data": {
      "text/plain": [
       "Counter({0: 1, 1: 1, 2: 1, 3: 1})"
      ]
     },
     "execution_count": 23,
     "metadata": {},
     "output_type": "execute_result"
    }
   ],
   "source": [
    "res"
   ]
  },
  {
   "cell_type": "code",
   "execution_count": 45,
   "id": "b3d3343f",
   "metadata": {},
   "outputs": [
    {
     "name": "stdout",
     "output_type": "stream",
     "text": [
      "1\n"
     ]
    }
   ],
   "source": [
    "st = \"A man, a plan, a canal: Panama\"\n",
    "st1 = \"\"\n",
    "for ele in st.lower():\n",
    "    if ele.isalnum():\n",
    "        st1 += ele\n",
    "n = len(st1)\n",
    "if st1[:n//2] == st1[n : n//2 :-1]:\n",
    "    print(\"1\")\n",
    "else:\n",
    "    print('0')\n",
    "\n",
    "        \n",
    "    "
   ]
  },
  {
   "cell_type": "code",
   "execution_count": 4,
   "id": "c19a3243",
   "metadata": {},
   "outputs": [
    {
     "name": "stdout",
     "output_type": "stream",
     "text": [
      "[2, 3, 4, 5]\n"
     ]
    }
   ],
   "source": [
    "# sort array without sorting algorithm\n",
    "arr = [4, 5, 3, 2]\n",
    "for i in range(len(arr)):\n",
    "    for j in range(i+1, len(arr)):\n",
    "        if arr[i] > arr[j]:\n",
    "            arr[i], arr[j] = arr[j], arr[i]\n",
    "print(arr)            "
   ]
  },
  {
   "cell_type": "code",
   "execution_count": 5,
   "id": "0c67c690",
   "metadata": {},
   "outputs": [
    {
     "name": "stdout",
     "output_type": "stream",
     "text": [
      "enter the number10\n",
      "3628800\n"
     ]
    },
    {
     "data": {
      "text/plain": [
       "2.0"
      ]
     },
     "execution_count": 5,
     "metadata": {},
     "output_type": "execute_result"
    }
   ],
   "source": [
    "# trailing zeros in factorial of a number\n",
    "\n",
    "def factorial_num(num):\n",
    "    if num==1 or num ==1:\n",
    "        return num\n",
    "    else:\n",
    "        return num * factorial_num(num-1)\n",
    "    \n",
    "def trail(num):\n",
    "    i = 5\n",
    "    res = 0\n",
    "    while i<num:\n",
    "        res += num/i\n",
    "        i *= 5\n",
    "    return res    \n",
    "    \n",
    "num = int(input(\"enter the number\"))\n",
    "fact = factorial_num(num)\n",
    "print(fact)\n",
    "trail(num)\n"
   ]
  },
  {
   "cell_type": "code",
   "execution_count": 12,
   "id": "dc0468d4",
   "metadata": {},
   "outputs": [
    {
     "data": {
      "text/plain": [
       "6253"
      ]
     },
     "execution_count": 12,
     "metadata": {},
     "output_type": "execute_result"
    }
   ],
   "source": [
    "#You have to pick exactly B elements from either left or right end of the array A to get maximum sum.\n",
    "def solve(A, B):\n",
    "    j, sum1, sum2 = len(A)-1, 0, 0\n",
    "    for i in range(B):\n",
    "        sum1 += A[i]\n",
    "    sum2 = sum1\n",
    "    for i in range(B-1, 0, -1):\n",
    "        sum1 += A[j] - A[i]\n",
    "        j -= 1\n",
    "        sum2 = max(sum1, sum2)\n",
    "        \n",
    "    return sum2\n",
    "\n",
    "A = [ -533, -666, -500, 169, 724, 478, 358, -38, -536, 705, -855, 281, -173, 961, -509, -5, 942, -173, 436, -609, -396, 902, -847, -708, -618, 421, -284, 718, 895, 447, 726, -229, 538, 869, 912, 667, -701, 35, 894, -297, 811, 322, -667, 673, -336, 141, 711, -747, -132, 547, 644, -338, -243, -963, -141, -277, 741, 529, -222, -684, 35 ]\n",
    "B = 48\n",
    "solve(A, B)"
   ]
  },
  {
   "cell_type": "code",
   "execution_count": 3,
   "id": "7ec5e795",
   "metadata": {},
   "outputs": [
    {
     "data": {
      "text/plain": [
       "10"
      ]
     },
     "execution_count": 3,
     "metadata": {},
     "output_type": "execute_result"
    }
   ],
   "source": [
    "#peak element\n",
    "A = [5, 1, 4, 3, 6, 8, 10, 7, 9]\n",
    "max(A[4:])"
   ]
  },
  {
   "cell_type": "code",
   "execution_count": 13,
   "id": "97637d75",
   "metadata": {},
   "outputs": [
    {
     "data": {
      "text/plain": [
       "6"
      ]
     },
     "execution_count": 13,
     "metadata": {},
     "output_type": "execute_result"
    }
   ],
   "source": [
    "def peak(A):\n",
    "    for i in range(1, len(A)-1):\n",
    "        if A[i] > A[i-1] and A[i] < A[i+1]:\n",
    "            return A[i]\n",
    "    return 0\n",
    "A = [5, 1, 4, 3, 6, 8, 10, 7, 9]\n",
    "peak(A)"
   ]
  },
  {
   "cell_type": "code",
   "execution_count": 14,
   "id": "0804f13f",
   "metadata": {},
   "outputs": [
    {
     "data": {
      "text/plain": [
       "1"
      ]
     },
     "execution_count": 14,
     "metadata": {},
     "output_type": "execute_result"
    }
   ],
   "source": [
    "def peak(A):\n",
    "    for i in range(1,len(A)-1):\n",
    "        max_ele = A[0]\n",
    "        min_ele = A[i+1]\n",
    "        j,k = 1, i+2\n",
    "        while True:\n",
    "            if j<i and A[j]> max_ele:\n",
    "                max_ele = A[j]\n",
    "            if k<len(A) and A[k] < min_ele:\n",
    "                min_ele = A[k]\n",
    "            j += 1\n",
    "            k += 1\n",
    "            if j>=i and k>= len(A):\n",
    "                break\n",
    "        if max_ele < A[i] and min_ele > A[i]:\n",
    "            return 1\n",
    "    return 0                \n",
    "A = [5, 1, 4, 3, 6, 8, 10, 7, 9]\n",
    "peak(A)               \n",
    "                "
   ]
  },
  {
   "cell_type": "code",
   "execution_count": null,
   "id": "e62b8447",
   "metadata": {},
   "outputs": [],
   "source": [
    "def solve( A):\n",
    "    B = []\n",
    "    C = []\n",
    "    for i in range(len(A)):\n",
    "        if A[i] < 0:\n",
    "            B.append(A[i]**2)\n",
    "        else:\n",
    "            C.append(A[i]**2)\n",
    "        i, j, k = len(B)-1 , 0, 0\n",
    "        while i>=0 and j<len(C):\n",
    "            if B[i] < C[j]:\n",
    "                A[k] = B[i]\n",
    "                i -= 1\n",
    "            elif B[i] > C[j]:\n",
    "                A[k] = C[j]\n",
    "                j += 1\n",
    "            k += 1\n",
    "        while i>=0:\n",
    "            A[k] = B[i]\n",
    "            i -= 1\n",
    "            k += 1\n",
    "        while j <len(C):\n",
    "            A[k] = C[j]\n",
    "            j += 1\n",
    "            k += 1\n",
    "    return A, B, C \n",
    "A = [-855, -847, -747, -708, -701, -667, -666, -618, -609, -536, -533, -509, -500, -396, -336, -297, -284, -229, -173, -173, -132, -38, -5, 35, 141, 169, 281, 322, 358, 421, 436, 447, 478, 538, 547, 644, 667, 673, 705, 711, 718, 724, 726, 811, 869, 894, 895, 902, 912, 942, 961 ]\n",
    "solve(A)"
   ]
  },
  {
   "cell_type": "code",
   "execution_count": null,
   "id": "16cb2e6a",
   "metadata": {},
   "outputs": [],
   "source": [
    "\tdef solve(self, A):\n",
    "        A = merge_sort(A)\n",
    "        for i in range(len(A)):\n",
    "            if abs(A[i]) == len(A)-i-1:\n",
    "                return 1\n",
    "        return -1        \n",
    "    \n",
    "\n",
    "def merge_sort(arr):\n",
    "    if len(arr) > 1:\n",
    "        mid = len(arr)//2\n",
    "        left = arr[ : mid]\n",
    "        right = arr[mid: ]\n",
    "        merge_sort(left)\n",
    "        merge_sort(right)\n",
    "        \n",
    "        i = 0\n",
    "        j = 0\n",
    "        k = 0\n",
    "        while i< len(left) and j< len(right):\n",
    "            if left[i] < right[j]:\n",
    "                arr[k] = left[i]\n",
    "                i += 1\n",
    "            else:\n",
    "                arr[k] = right[j]\n",
    "                j += 1\n",
    "            k += 1   \n",
    "            \n",
    "        while i < len(left):\n",
    "            arr[k] = left[i]\n",
    "            i += 1\n",
    "            k += 1\n",
    "        while j < len(right):\n",
    "            arr[k] = right[j]\n",
    "            j += 1\n",
    "            k += 1\n",
    "            \n",
    "    return arr"
   ]
  },
  {
   "cell_type": "code",
   "execution_count": 17,
   "id": "6e5eafe0",
   "metadata": {},
   "outputs": [
    {
     "data": {
      "text/plain": [
       "32663"
      ]
     },
     "execution_count": 17,
     "metadata": {},
     "output_type": "execute_result"
    }
   ],
   "source": [
    "def perfectPeak(A):\n",
    "    for i in range(1, len(A)-1):\n",
    "        max_ele = max(A[:i])\n",
    "        min_ele = min(A[i+1:])\n",
    "        if A[i] > max_ele and A[i] < min_ele:\n",
    "             return A[i]\n",
    "    return 0 \n",
    "A = [ 9895, 30334, 17674, 23812, 20038, 25668, 6869, 1870, 4665, 27645, 7712, 17036, 31323, 8724, 28254, 28704, 26300, 25548, 15142, 12860, 19913, 32663, 32758 ]\n",
    "perfectPeak(A)"
   ]
  },
  {
   "cell_type": "code",
   "execution_count": 13,
   "id": "56014c8d",
   "metadata": {},
   "outputs": [
    {
     "data": {
      "text/plain": [
       "2"
      ]
     },
     "execution_count": 13,
     "metadata": {},
     "output_type": "execute_result"
    }
   ],
   "source": [
    "A = [3, 7, 2, 8, 4, 9]\n",
    "B = sorted(A)\n",
    "B[0]"
   ]
  },
  {
   "cell_type": "code",
   "execution_count": null,
   "id": "f7e4c68a",
   "metadata": {},
   "outputs": [],
   "source": []
  }
 ],
 "metadata": {
  "kernelspec": {
   "display_name": "Python 3 (ipykernel)",
   "language": "python",
   "name": "python3"
  },
  "language_info": {
   "codemirror_mode": {
    "name": "ipython",
    "version": 3
   },
   "file_extension": ".py",
   "mimetype": "text/x-python",
   "name": "python",
   "nbconvert_exporter": "python",
   "pygments_lexer": "ipython3",
   "version": "3.9.12"
  }
 },
 "nbformat": 4,
 "nbformat_minor": 5
}
