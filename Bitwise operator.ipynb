{
 "cells": [
  {
   "cell_type": "markdown",
   "id": "c6ef7095",
   "metadata": {},
   "source": [
    "# &, |, ^, >>, <<\n"
   ]
  },
  {
   "cell_type": "code",
   "execution_count": 6,
   "id": "91d1e585",
   "metadata": {},
   "outputs": [
    {
     "name": "stdout",
     "output_type": "stream",
     "text": [
      "1\n",
      "0\n"
     ]
    }
   ],
   "source": [
    "# and operator\n",
    "# it gives 1 when bits are same, othewise 0\n",
    "print(1  & 1)\n",
    "print(1 & 0)"
   ]
  },
  {
   "cell_type": "code",
   "execution_count": 9,
   "id": "8932ff5a",
   "metadata": {},
   "outputs": [
    {
     "name": "stdout",
     "output_type": "stream",
     "text": [
      "1\n",
      "1\n",
      "0\n"
     ]
    }
   ],
   "source": [
    "# or operator give 0 when atleast one bit is 1\n",
    "print( 1 | 1)\n",
    "print(1 | 0 )\n",
    "print(0 | 0)"
   ]
  },
  {
   "cell_type": "code",
   "execution_count": 10,
   "id": "72595327",
   "metadata": {},
   "outputs": [
    {
     "name": "stdout",
     "output_type": "stream",
     "text": [
      "0\n",
      "1\n",
      "0\n"
     ]
    }
   ],
   "source": [
    "# xor gives 0 when both bits are same\n",
    "print(1^1)\n",
    "print(1^0)\n",
    "print(0^0)"
   ]
  },
  {
   "cell_type": "code",
   "execution_count": 13,
   "id": "8ced5165",
   "metadata": {},
   "outputs": [
    {
     "data": {
      "text/plain": [
       "1"
      ]
     },
     "execution_count": 13,
     "metadata": {},
     "output_type": "execute_result"
    }
   ],
   "source": [
    "# right shift\n",
    "2>>1   #right shift by 1\n",
    "6>>1   #right shift operator divides number by 2"
   ]
  },
  {
   "cell_type": "code",
   "execution_count": 16,
   "id": "b2a59ad4",
   "metadata": {},
   "outputs": [
    {
     "data": {
      "text/plain": [
       "12"
      ]
     },
     "execution_count": 16,
     "metadata": {},
     "output_type": "execute_result"
    }
   ],
   "source": [
    "#left shift\n",
    "2<<1   #left shift by 1\n",
    "6<<1   #left shift multiplies the number with 2"
   ]
  },
  {
   "cell_type": "markdown",
   "id": "cf88c7d9",
   "metadata": {},
   "source": [
    "## Practice"
   ]
  },
  {
   "cell_type": "code",
   "execution_count": 19,
   "id": "8843873f",
   "metadata": {},
   "outputs": [
    {
     "name": "stdout",
     "output_type": "stream",
     "text": [
      "enter the number5\n",
      "odd number\n"
     ]
    }
   ],
   "source": [
    "# even and odd number\n",
    "num = int(input(\"enter the number \"))\n",
    "if num & 1:                             \n",
    "    print(\"odd number\")\n",
    "else:\n",
    "    print(\"even number\")\n",
    "    \n",
    "# if we & a number with 1 we get 1 for odd number and 0 for even number"
   ]
  },
  {
   "cell_type": "code",
   "execution_count": 21,
   "id": "97b40545",
   "metadata": {},
   "outputs": [
    {
     "name": "stdout",
     "output_type": "stream",
     "text": [
      "enter number a: 5\n",
      "enter number b: 10\n",
      "a: 10\n",
      "b: 5\n"
     ]
    }
   ],
   "source": [
    "# swapping\n",
    "a = int(input(\"enter number a: \"))\n",
    "b = int(input(\"enter number b: \"))\n",
    "a = a ^ b \n",
    "b = a ^ b\n",
    "a = a ^ b\n",
    "\n",
    "print(\"a:\", a)\n",
    "print('b:', b)"
   ]
  },
  {
   "cell_type": "markdown",
   "id": "e8d451cf",
   "metadata": {},
   "source": [
    "## Bit Masking"
   ]
  },
  {
   "cell_type": "code",
   "execution_count": 16,
   "id": "e9ee1310",
   "metadata": {},
   "outputs": [
    {
     "name": "stdout",
     "output_type": "stream",
     "text": [
      "enter the bit4\n",
      "0\n"
     ]
    }
   ],
   "source": [
    "# find ith bit\n",
    "a = 8\n",
    "i = int(input('enter the bit'))\n",
    "mask = 1<<i\n",
    "a = a & mask\n",
    "if a:\n",
    "    print(1)\n",
    "else:\n",
    "    print(0)\n"
   ]
  },
  {
   "cell_type": "code",
   "execution_count": 1,
   "id": "4ed75b90",
   "metadata": {},
   "outputs": [
    {
     "name": "stdout",
     "output_type": "stream",
     "text": [
      "enter the bit1\n",
      "27\n"
     ]
    }
   ],
   "source": [
    "# set a bit to 1\n",
    "a = 25        # 11001\n",
    "i = int(input('enter the bit'))\n",
    "mask = 1<<i\n",
    "a = a|mask   # a = 27, 11011\n",
    "print(a)    "
   ]
  },
  {
   "cell_type": "code",
   "execution_count": 7,
   "id": "5cb18e85",
   "metadata": {},
   "outputs": [
    {
     "name": "stdout",
     "output_type": "stream",
     "text": [
      "enter the bit3\n",
      "17\n"
     ]
    }
   ],
   "source": [
    "# clearing a bit( making bit 0)\n",
    "a = 25        # 11001\n",
    "i = int(input('enter the bit'))\n",
    "mask = ~(1<<i)\n",
    "b = a & mask  # 17, 10001\n",
    "print(b)"
   ]
  },
  {
   "cell_type": "code",
   "execution_count": 6,
   "id": "d3cd0401",
   "metadata": {},
   "outputs": [
    {
     "name": "stdout",
     "output_type": "stream",
     "text": [
      "3\n"
     ]
    }
   ],
   "source": [
    "# number of bits we need to change to convert a to b\n",
    "a = 20    #11001\n",
    "b = 25    #10100\n",
    "c = a^b\n",
    "count = 0\n",
    "while c:\n",
    "    c = c&(c-1)\n",
    "    count += 1\n",
    "print(count)    "
   ]
  },
  {
   "cell_type": "code",
   "execution_count": 14,
   "id": "5c46642c",
   "metadata": {},
   "outputs": [
    {
     "name": "stdout",
     "output_type": "stream",
     "text": [
      "3\n"
     ]
    }
   ],
   "source": [
    "# finding one non repeating element when all other elements are repeating twice\n",
    "ls = [2, 3, 6, 8, 2, 7, 6, 7, 8]\n",
    "res = 0\n",
    "for ele in ls:\n",
    "    res = res ^ ele\n",
    "    \n",
    "print(res)    "
   ]
  },
  {
   "cell_type": "code",
   "execution_count": 20,
   "id": "b8537c95",
   "metadata": {},
   "outputs": [
    {
     "data": {
      "text/plain": [
       "7"
      ]
     },
     "execution_count": 20,
     "metadata": {},
     "output_type": "execute_result"
    }
   ],
   "source": [
    "#finding non repeating element when all other elements are repeating twice,and 2 non repeating element\n",
    "ls = [2, 3, 6, 8, 2, 7, 6, 7, 8, 4]\n",
    "res = 0\n",
    "for ele in ls:\n",
    "    res = res ^ ele\n",
    "    \n",
    "res"
   ]
  }
 ],
 "metadata": {
  "kernelspec": {
   "display_name": "Python 3 (ipykernel)",
   "language": "python",
   "name": "python3"
  },
  "language_info": {
   "codemirror_mode": {
    "name": "ipython",
    "version": 3
   },
   "file_extension": ".py",
   "mimetype": "text/x-python",
   "name": "python",
   "nbconvert_exporter": "python",
   "pygments_lexer": "ipython3",
   "version": "3.9.12"
  }
 },
 "nbformat": 4,
 "nbformat_minor": 5
}
