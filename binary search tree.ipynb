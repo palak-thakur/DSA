{
 "cells": [
  {
   "cell_type": "code",
   "execution_count": 3,
   "id": "8d82736a",
   "metadata": {},
   "outputs": [
    {
     "name": "stdout",
     "output_type": "stream",
     "text": [
      "username:  p123k\n",
      "name:  palak\n",
      "email:  palak@gmail.com\n"
     ]
    }
   ],
   "source": [
    "#creating a class of users with:\n",
    "#username\n",
    "#name\n",
    "#email\n",
    "\n",
    "class User:\n",
    "    def __init__(self, username, name, email):\n",
    "        self.username = username\n",
    "        self.name = name\n",
    "        self.email = email\n",
    "    def details(self):\n",
    "        print(\"username: \" , self.username)\n",
    "        print(\"name: \", self.name)\n",
    "        print(\"email: \", self.email)\n",
    "user1 = User('p123k', 'palak', 'palak@gmail.com')\n",
    "user1.details()"
   ]
  },
  {
   "cell_type": "code",
   "execution_count": null,
   "id": "53f62d29",
   "metadata": {},
   "outputs": [],
   "source": []
  }
 ],
 "metadata": {
  "kernelspec": {
   "display_name": "Python 3 (ipykernel)",
   "language": "python",
   "name": "python3"
  },
  "language_info": {
   "codemirror_mode": {
    "name": "ipython",
    "version": 3
   },
   "file_extension": ".py",
   "mimetype": "text/x-python",
   "name": "python",
   "nbconvert_exporter": "python",
   "pygments_lexer": "ipython3",
   "version": "3.9.12"
  }
 },
 "nbformat": 4,
 "nbformat_minor": 5
}
