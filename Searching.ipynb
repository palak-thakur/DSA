{
 "cells": [
  {
   "cell_type": "markdown",
   "id": "6b4f466a",
   "metadata": {},
   "source": [
    "LINEAR SEARCH"
   ]
  },
  {
   "cell_type": "code",
   "execution_count": 13,
   "id": "ed30ce2a",
   "metadata": {},
   "outputs": [
    {
     "data": {
      "text/plain": [
       "-1"
      ]
     },
     "execution_count": 13,
     "metadata": {},
     "output_type": "execute_result"
    }
   ],
   "source": [
    "def linear_search(arr, n, ele):\n",
    "    if n < 1:\n",
    "        return -1\n",
    "    i = 0\n",
    "    while i < n:\n",
    "        if arr[i] == ele:\n",
    "            return i\n",
    "        i += 1\n",
    "    return -1\n",
    "\n",
    "arr =[1, 2, 3, 4]\n",
    "n = len(arr)\n",
    "ele = 9\n",
    "linear_search (arr, n, ele)"
   ]
  },
  {
   "cell_type": "markdown",
   "id": "37c794d5",
   "metadata": {},
   "source": [
    "BINARY SEARCH"
   ]
  },
  {
   "cell_type": "code",
   "execution_count": 14,
   "id": "4286e616",
   "metadata": {},
   "outputs": [
    {
     "data": {
      "text/plain": [
       "5"
      ]
     },
     "execution_count": 14,
     "metadata": {},
     "output_type": "execute_result"
    }
   ],
   "source": [
    "def binary_search(arr, n, ele):\n",
    "    hi = n - 1\n",
    "    lo = 0\n",
    "    while lo <= hi:\n",
    "        mid = (lo + hi)//2\n",
    "        if arr[mid] == ele:\n",
    "            return mid\n",
    "        elif arr[mid] > ele:\n",
    "            hi = mid - 1\n",
    "        elif arr[mid] < ele:\n",
    "            lo = mid + 1\n",
    "    return -1\n",
    "\n",
    "arr =[3, 4, 5, 6, 8, 9]\n",
    "n = len(arr)\n",
    "ele = 9\n",
    "binary_search (arr, n, ele)    "
   ]
  },
  {
   "cell_type": "markdown",
   "id": "138ecb35",
   "metadata": {},
   "source": [
    "BINARY SEARCH for repeating numbers"
   ]
  },
  {
   "cell_type": "code",
   "execution_count": 30,
   "id": "d7208545",
   "metadata": {},
   "outputs": [
    {
     "data": {
      "text/plain": [
       "2"
      ]
     },
     "execution_count": 30,
     "metadata": {},
     "output_type": "execute_result"
    }
   ],
   "source": [
    "def check_ele(arr,ele,  mid):\n",
    "    if arr[mid] == ele:\n",
    "        if mid-1 > 0 and arr[mid-1] == ele:\n",
    "            return \"left\"\n",
    "        else:\n",
    "            return \"found\"\n",
    "    elif arr[mid] < ele:\n",
    "        return \"right\"\n",
    "    else:\n",
    "        return \"left\"\n",
    "            \n",
    "    \n",
    "def binary_search(arr, n, ele):\n",
    "    hi = n - 1\n",
    "    lo = 0\n",
    "    while lo <= hi:\n",
    "        mid = (lo + hi)//2\n",
    "        result = check_ele(arr, ele, mid)\n",
    "        if result == \"left\":\n",
    "            hi = mid -1\n",
    "        elif result == \"right\":\n",
    "            lo = mid + 1\n",
    "        elif result == \"found\":\n",
    "            return mid\n",
    "        \n",
    "    return -1\n",
    "arr =[3, 4, 5, 5, 5, 5, 5, 5, 6, 7, 8]\n",
    "n = len(arr)\n",
    "ele = 5\n",
    "binary_search (arr, n, ele) "
   ]
  },
  {
   "cell_type": "markdown",
   "id": "e008a861",
   "metadata": {},
   "source": [
    "PRACTICE QUESTIONS"
   ]
  },
  {
   "cell_type": "markdown",
   "id": "0b77c1d6",
   "metadata": {},
   "source": [
    "1. given a rotated list find the number of rotations"
   ]
  },
  {
   "cell_type": "code",
   "execution_count": 38,
   "id": "49a35bdd",
   "metadata": {},
   "outputs": [
    {
     "data": {
      "text/plain": [
       "4"
      ]
     },
     "execution_count": 38,
     "metadata": {},
     "output_type": "execute_result"
    }
   ],
   "source": [
    "# with linear search\n",
    "def rotate_arr(arr, n):\n",
    "    i = 1\n",
    "    while i < n:\n",
    "        if arr[i] < arr[i-1]:\n",
    "            return i\n",
    "        i += 1\n",
    "    return 0\n",
    "\n",
    "arr = [ 2, 3, 4, 5, 1]\n",
    "n = len(arr)\n",
    "rotate_arr(arr, n)"
   ]
  },
  {
   "cell_type": "code",
   "execution_count": 43,
   "id": "d538fdad",
   "metadata": {},
   "outputs": [
    {
     "data": {
      "text/plain": [
       "5"
      ]
     },
     "execution_count": 43,
     "metadata": {},
     "output_type": "execute_result"
    }
   ],
   "source": [
    "# with binary search\n",
    "def rotate_arr(arr, n):\n",
    "    lo = 0\n",
    "    hi = n-1\n",
    "    while lo <= hi:\n",
    "        mid = (lo+hi)//2\n",
    "        if arr[mid] < arr[mid-1]:\n",
    "            return mid\n",
    "        elif arr[mid] < arr[hi]:\n",
    "            hi = mid-1\n",
    "        elif arr[mid] > arr[hi]:\n",
    "            lo = mid+1\n",
    "    return 0\n",
    "arr = [ 1, 2, 3, 4, 5, -1, 0]\n",
    "n = len(arr)\n",
    "rotate_arr(arr, n)"
   ]
  },
  {
   "cell_type": "markdown",
   "id": "921b1739",
   "metadata": {},
   "source": [
    "2. element search in rotated sorted array"
   ]
  },
  {
   "cell_type": "code",
   "execution_count": 7,
   "id": "1b2a3d15",
   "metadata": {},
   "outputs": [
    {
     "data": {
      "text/plain": [
       "4"
      ]
     },
     "execution_count": 7,
     "metadata": {},
     "output_type": "execute_result"
    }
   ],
   "source": [
    "#with binary search\n",
    "def search(nums, target):\n",
    "    lo = 0\n",
    "    hi = len(nums) - 1\n",
    "    while lo <= hi:\n",
    "        mid =(lo+hi)//2\n",
    "        if nums[mid] == target:\n",
    "            return mid\n",
    "        if nums[mid] >= nums[lo]:\n",
    "            if nums[mid] >= target and nums[lo] <= target:\n",
    "                hi = mid - 1\n",
    "            else:\n",
    "                lo = mid + 1\n",
    "        elif nums[mid] <= nums[hi]:\n",
    "            if nums[mid] < target and nums[hi] >= target:\n",
    "                 lo = mid + 1\n",
    "            else:\n",
    "                hi = mid - 1\n",
    "    return -1\n",
    "nums = [4, 5, 6, 7, 0, 1, 2]\n",
    "target = 0\n",
    "search(nums, target)"
   ]
  },
  {
   "cell_type": "markdown",
   "id": "732c00ae",
   "metadata": {},
   "source": [
    "3. FIRST AND LAST OCCURENCE"
   ]
  },
  {
   "cell_type": "code",
   "execution_count": 5,
   "id": "fbaa1b82",
   "metadata": {},
   "outputs": [
    {
     "name": "stdout",
     "output_type": "stream",
     "text": [
      "3,4\n"
     ]
    }
   ],
   "source": [
    "#first and last position of element in sorted\n",
    "        \n",
    "def first(arr, ele):\n",
    "    lo = 0\n",
    "    hi = len(arr) - 1\n",
    "    res = -1\n",
    "    while lo <= hi:\n",
    "        mid = (lo+ hi)// 2\n",
    "        if arr[mid]> ele:\n",
    "            hi = mid -1\n",
    "        elif arr[mid] < ele:\n",
    "            lo = mid + 1\n",
    "        else:\n",
    "            res = mid\n",
    "            hi = mid - 1\n",
    "    return res\n",
    "def last(arr, ele):\n",
    "    lo = 0\n",
    "    hi = len(arr) -1\n",
    "    res = -1\n",
    "    while lo<=hi:\n",
    "        mid = (lo+ hi)// 2\n",
    "        if arr[mid]> ele:\n",
    "            hi = mid -1\n",
    "        elif arr[mid] < ele:\n",
    "            lo = mid + 1\n",
    "        else:\n",
    "            res = mid\n",
    "            lo = mid + 1\n",
    "    return res     \n",
    "        \n",
    "            \n",
    "arr = [5, 7, 7, 8, 8, 10]\n",
    "ele = 8\n",
    "print(first(arr, ele), end = \",\")\n",
    "print(last(arr, ele))"
   ]
  },
  {
   "cell_type": "markdown",
   "id": "f94b9949",
   "metadata": {},
   "source": [
    "4. SEARCH INSERT POSITION"
   ]
  },
  {
   "cell_type": "code",
   "execution_count": 2,
   "id": "9b04ce6f",
   "metadata": {},
   "outputs": [
    {
     "data": {
      "text/plain": [
       "4"
      ]
     },
     "execution_count": 2,
     "metadata": {},
     "output_type": "execute_result"
    }
   ],
   "source": [
    "#search element in sorted list, if not found then return position if it exits\n",
    "def searchInsert(nums, target):\n",
    "    lo = 0\n",
    "    hi = len(nums) - 1\n",
    "    while lo <= hi:\n",
    "        mid = (lo+hi)//2\n",
    "        if nums[mid] == target:\n",
    "            return mid\n",
    "        if nums[mid] < target:\n",
    "            lo = mid + 1\n",
    "        elif nums[mid] > target:\n",
    "             hi = mid - 1\n",
    "    return hi+1 \n",
    "\n",
    "nums = [1, 2, 3, 4, 6]\n",
    "target = 5\n",
    "searchInsert(nums, target)"
   ]
  },
  {
   "cell_type": "markdown",
   "id": "78c20ea1",
   "metadata": {},
   "source": [
    "5. sqrt(x) in integer without using function or ** operator"
   ]
  },
  {
   "cell_type": "code",
   "execution_count": 4,
   "id": "0939e71f",
   "metadata": {},
   "outputs": [
    {
     "data": {
      "text/plain": [
       "2"
      ]
     },
     "execution_count": 4,
     "metadata": {},
     "output_type": "execute_result"
    }
   ],
   "source": [
    "def sqrt_ele(ele):\n",
    "    lo = 0\n",
    "    hi = ele - 1\n",
    "    while lo <= hi:\n",
    "        mid = (lo + hi) // 2\n",
    "        if mid*mid == ele:\n",
    "            return mid\n",
    "        if mid**mid < ele:\n",
    "            lo = mid + 1\n",
    "            ans = mid\n",
    "        elif mid**mid > ele:\n",
    "            hi = mid - 1\n",
    "    return ans    \n",
    "sqrt_ele(8)            "
   ]
  },
  {
   "cell_type": "code",
   "execution_count": null,
   "id": "8918e31c",
   "metadata": {},
   "outputs": [],
   "source": []
  }
 ],
 "metadata": {
  "kernelspec": {
   "display_name": "Python 3 (ipykernel)",
   "language": "python",
   "name": "python3"
  },
  "language_info": {
   "codemirror_mode": {
    "name": "ipython",
    "version": 3
   },
   "file_extension": ".py",
   "mimetype": "text/x-python",
   "name": "python",
   "nbconvert_exporter": "python",
   "pygments_lexer": "ipython3",
   "version": "3.9.12"
  }
 },
 "nbformat": 4,
 "nbformat_minor": 5
}
